{
 "cells": [
  {
   "cell_type": "code",
   "execution_count": 12,
   "id": "793aa75f",
   "metadata": {},
   "outputs": [],
   "source": [
    "import sys\n",
    "import os\n",
    "\n",
    "# Añade el directorio padre al sys.path\n",
    "sys.path.append(os.path.abspath(\"/eos/home-d/dcostasr/SWAN_projects/2025_data\"))\n",
    "\n",
    "from wcte.brbtools import extract_p_number, sort_run_files, get_part_files, select_good_parts\n",
    "from wcte.mapping  import id_names\n",
    "\n",
    "%load_ext autoreload\n",
    "%autoreload 2"
   ]
  },
  {
   "cell_type": "code",
   "execution_count": 13,
   "id": "39d2714f",
   "metadata": {},
   "outputs": [
    {
     "ename": "TypeError",
     "evalue": "get_part_files() takes 0 positional arguments but 1 was given",
     "output_type": "error",
     "traceback": [
      "\u001b[0;31m---------------------------------------------------------------------------\u001b[0m",
      "\u001b[0;31mTypeError\u001b[0m                                 Traceback (most recent call last)",
      "Cell \u001b[0;32mIn [13], line 5\u001b[0m\n\u001b[1;32m      2\u001b[0m \u001b[38;5;28mmap\u001b[39m \u001b[38;5;241m=\u001b[39m id_names\n\u001b[1;32m      4\u001b[0m run_files  \u001b[38;5;241m=\u001b[39m sort_run_files(\u001b[38;5;124mf\u001b[39m\u001b[38;5;124m\"\u001b[39m\u001b[38;5;124m/eos/experiment/wcte/data/2025_commissioning/offline_data/\u001b[39m\u001b[38;5;132;01m{\u001b[39;00mrun\u001b[38;5;132;01m}\u001b[39;00m\u001b[38;5;124m/WCTE_offline_R\u001b[39m\u001b[38;5;132;01m{\u001b[39;00mrun\u001b[38;5;132;01m}\u001b[39;00m\u001b[38;5;124mS*P*.root\u001b[39m\u001b[38;5;124m\"\u001b[39m)\n\u001b[0;32m----> 5\u001b[0m part_files \u001b[38;5;241m=\u001b[39m \u001b[43mget_part_files\u001b[49m\u001b[43m(\u001b[49m\u001b[43mrun_files\u001b[49m\u001b[43m)\u001b[49m\n",
      "\u001b[0;31mTypeError\u001b[0m: get_part_files() takes 0 positional arguments but 1 was given"
     ]
    }
   ],
   "source": [
    "run = 1444\n",
    "map = id_names\n",
    "\n",
    "run_files  = sort_run_files(f\"/eos/experiment/wcte/data/2025_commissioning/offline_data/{run}/WCTE_offline_R{run}S*P*.root\")\n",
    "part_files = get_part_files(run_files)"
   ]
  },
  {
   "cell_type": "code",
   "execution_count": null,
   "id": "051dadcd",
   "metadata": {},
   "outputs": [],
   "source": []
  }
 ],
 "metadata": {
  "kernelspec": {
   "display_name": "Python 3",
   "language": "python",
   "name": "python3"
  },
  "language_info": {
   "codemirror_mode": {
    "name": "ipython",
    "version": 3
   },
   "file_extension": ".py",
   "mimetype": "text/x-python",
   "name": "python",
   "nbconvert_exporter": "python",
   "pygments_lexer": "ipython3",
   "version": "3.9.21"
  }
 },
 "nbformat": 4,
 "nbformat_minor": 5
}
