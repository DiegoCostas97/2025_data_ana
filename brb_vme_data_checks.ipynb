{
 "cells": [
  {
   "cell_type": "code",
   "execution_count": 1,
   "id": "5e30d4a4",
   "metadata": {},
   "outputs": [],
   "source": [
    "import itertools\n",
    "import uproot\n",
    "import sys\n",
    "import site\n",
    "import glob\n",
    "import re\n",
    "import math\n",
    "sys.path.insert(0, site.getusersitepackages())\n",
    "\n",
    "import numpy             as np\n",
    "import awkward           as ak\n",
    "import matplotlib.pyplot as plt\n",
    "import pandas            as pd\n",
    "\n",
    "# Wider Cells\n",
    "from IPython.display                 import display, HTML, Markdown\n",
    "from tqdm.notebook                   import tqdm\n",
    "from matplotlib.backends.backend_pdf import PdfPages"
   ]
  },
  {
   "cell_type": "code",
   "execution_count": 2,
   "id": "79fd0977",
   "metadata": {},
   "outputs": [],
   "source": [
    "# Función para extraer el número después de \"P\"\n",
    "def extract_p_number(filename):\n",
    "    match = re.search(r\"P(\\d+)\", filename)\n",
    "    if match:\n",
    "        return int(match.group(1))\n",
    "    return -1  # Devuelve un valor pequeño si no se encuentra \"P\""
   ]
  },
  {
   "cell_type": "code",
   "execution_count": 3,
   "id": "d7a1352a",
   "metadata": {},
   "outputs": [
    {
     "data": {
      "text/plain": [
       "324"
      ]
     },
     "execution_count": 3,
     "metadata": {},
     "output_type": "execute_result"
    }
   ],
   "source": [
    "run = 1444\n",
    "run_files = glob.glob(f\"/eos/experiment/wcte/data/2025_commissioning/offline_data/{run}/WCTE_offline_R{run}S*P*.root\")\n",
    "#/eos/experiment/wcte/data/2025_commissioning/\"+str(run)+\"/*.root\n",
    "\n",
    "# Ordenar los archivos usando extract_p_number\n",
    "run_files = sorted(run_files, key=extract_p_number)\n",
    "part_files = [extract_p_number(file) for file in run_files]\n",
    "len(run_files)"
   ]
  },
  {
   "cell_type": "code",
   "execution_count": 4,
   "id": "3b38095b",
   "metadata": {},
   "outputs": [
    {
     "data": {
      "text/plain": [
       "['/eos/experiment/wcte/data/2025_commissioning/offline_data/1444/WCTE_offline_R1444S0P0.root',\n",
       " '/eos/experiment/wcte/data/2025_commissioning/offline_data/1444/WCTE_offline_R1444S0P1.root',\n",
       " '/eos/experiment/wcte/data/2025_commissioning/offline_data/1444/WCTE_offline_R1444S0P2.root',\n",
       " '/eos/experiment/wcte/data/2025_commissioning/offline_data/1444/WCTE_offline_R1444S0P3.root',\n",
       " '/eos/experiment/wcte/data/2025_commissioning/offline_data/1444/WCTE_offline_R1444S0P4.root',\n",
       " '/eos/experiment/wcte/data/2025_commissioning/offline_data/1444/WCTE_offline_R1444S0P5.root',\n",
       " '/eos/experiment/wcte/data/2025_commissioning/offline_data/1444/WCTE_offline_R1444S0P6.root',\n",
       " '/eos/experiment/wcte/data/2025_commissioning/offline_data/1444/WCTE_offline_R1444S0P7.root',\n",
       " '/eos/experiment/wcte/data/2025_commissioning/offline_data/1444/WCTE_offline_R1444S0P8.root',\n",
       " '/eos/experiment/wcte/data/2025_commissioning/offline_data/1444/WCTE_offline_R1444S0P9.root',\n",
       " '/eos/experiment/wcte/data/2025_commissioning/offline_data/1444/WCTE_offline_R1444S0P10.root',\n",
       " '/eos/experiment/wcte/data/2025_commissioning/offline_data/1444/WCTE_offline_R1444S0P11.root',\n",
       " '/eos/experiment/wcte/data/2025_commissioning/offline_data/1444/WCTE_offline_R1444S0P12.root',\n",
       " '/eos/experiment/wcte/data/2025_commissioning/offline_data/1444/WCTE_offline_R1444S0P13.root',\n",
       " '/eos/experiment/wcte/data/2025_commissioning/offline_data/1444/WCTE_offline_R1444S0P14.root',\n",
       " '/eos/experiment/wcte/data/2025_commissioning/offline_data/1444/WCTE_offline_R1444S0P15.root',\n",
       " '/eos/experiment/wcte/data/2025_commissioning/offline_data/1444/WCTE_offline_R1444S0P16.root',\n",
       " '/eos/experiment/wcte/data/2025_commissioning/offline_data/1444/WCTE_offline_R1444S0P17.root',\n",
       " '/eos/experiment/wcte/data/2025_commissioning/offline_data/1444/WCTE_offline_R1444S0P18.root',\n",
       " '/eos/experiment/wcte/data/2025_commissioning/offline_data/1444/WCTE_offline_R1444S0P19.root',\n",
       " '/eos/experiment/wcte/data/2025_commissioning/offline_data/1444/WCTE_offline_R1444S0P20.root',\n",
       " '/eos/experiment/wcte/data/2025_commissioning/offline_data/1444/WCTE_offline_R1444S0P21.root',\n",
       " '/eos/experiment/wcte/data/2025_commissioning/offline_data/1444/WCTE_offline_R1444S0P22.root',\n",
       " '/eos/experiment/wcte/data/2025_commissioning/offline_data/1444/WCTE_offline_R1444S0P23.root',\n",
       " '/eos/experiment/wcte/data/2025_commissioning/offline_data/1444/WCTE_offline_R1444S0P24.root',\n",
       " '/eos/experiment/wcte/data/2025_commissioning/offline_data/1444/WCTE_offline_R1444S0P25.root',\n",
       " '/eos/experiment/wcte/data/2025_commissioning/offline_data/1444/WCTE_offline_R1444S0P26.root',\n",
       " '/eos/experiment/wcte/data/2025_commissioning/offline_data/1444/WCTE_offline_R1444S0P27.root',\n",
       " '/eos/experiment/wcte/data/2025_commissioning/offline_data/1444/WCTE_offline_R1444S0P28.root',\n",
       " '/eos/experiment/wcte/data/2025_commissioning/offline_data/1444/WCTE_offline_R1444S0P29.root',\n",
       " '/eos/experiment/wcte/data/2025_commissioning/offline_data/1444/WCTE_offline_R1444S0P30.root',\n",
       " '/eos/experiment/wcte/data/2025_commissioning/offline_data/1444/WCTE_offline_R1444S0P31.root',\n",
       " '/eos/experiment/wcte/data/2025_commissioning/offline_data/1444/WCTE_offline_R1444S0P32.root',\n",
       " '/eos/experiment/wcte/data/2025_commissioning/offline_data/1444/WCTE_offline_R1444S0P33.root',\n",
       " '/eos/experiment/wcte/data/2025_commissioning/offline_data/1444/WCTE_offline_R1444S0P34.root',\n",
       " '/eos/experiment/wcte/data/2025_commissioning/offline_data/1444/WCTE_offline_R1444S0P35.root',\n",
       " '/eos/experiment/wcte/data/2025_commissioning/offline_data/1444/WCTE_offline_R1444S0P36.root',\n",
       " '/eos/experiment/wcte/data/2025_commissioning/offline_data/1444/WCTE_offline_R1444S0P37.root',\n",
       " '/eos/experiment/wcte/data/2025_commissioning/offline_data/1444/WCTE_offline_R1444S0P38.root',\n",
       " '/eos/experiment/wcte/data/2025_commissioning/offline_data/1444/WCTE_offline_R1444S0P39.root',\n",
       " '/eos/experiment/wcte/data/2025_commissioning/offline_data/1444/WCTE_offline_R1444S0P40.root',\n",
       " '/eos/experiment/wcte/data/2025_commissioning/offline_data/1444/WCTE_offline_R1444S0P41.root',\n",
       " '/eos/experiment/wcte/data/2025_commissioning/offline_data/1444/WCTE_offline_R1444S0P42.root',\n",
       " '/eos/experiment/wcte/data/2025_commissioning/offline_data/1444/WCTE_offline_R1444S0P43.root',\n",
       " '/eos/experiment/wcte/data/2025_commissioning/offline_data/1444/WCTE_offline_R1444S0P44.root',\n",
       " '/eos/experiment/wcte/data/2025_commissioning/offline_data/1444/WCTE_offline_R1444S0P45.root',\n",
       " '/eos/experiment/wcte/data/2025_commissioning/offline_data/1444/WCTE_offline_R1444S0P46.root',\n",
       " '/eos/experiment/wcte/data/2025_commissioning/offline_data/1444/WCTE_offline_R1444S0P47.root',\n",
       " '/eos/experiment/wcte/data/2025_commissioning/offline_data/1444/WCTE_offline_R1444S0P48.root',\n",
       " '/eos/experiment/wcte/data/2025_commissioning/offline_data/1444/WCTE_offline_R1444S0P49.root',\n",
       " '/eos/experiment/wcte/data/2025_commissioning/offline_data/1444/WCTE_offline_R1444S0P50.root',\n",
       " '/eos/experiment/wcte/data/2025_commissioning/offline_data/1444/WCTE_offline_R1444S0P51.root',\n",
       " '/eos/experiment/wcte/data/2025_commissioning/offline_data/1444/WCTE_offline_R1444S0P52.root',\n",
       " '/eos/experiment/wcte/data/2025_commissioning/offline_data/1444/WCTE_offline_R1444S0P53.root',\n",
       " '/eos/experiment/wcte/data/2025_commissioning/offline_data/1444/WCTE_offline_R1444S0P54.root',\n",
       " '/eos/experiment/wcte/data/2025_commissioning/offline_data/1444/WCTE_offline_R1444S0P55.root',\n",
       " '/eos/experiment/wcte/data/2025_commissioning/offline_data/1444/WCTE_offline_R1444S0P56.root',\n",
       " '/eos/experiment/wcte/data/2025_commissioning/offline_data/1444/WCTE_offline_R1444S0P57.root',\n",
       " '/eos/experiment/wcte/data/2025_commissioning/offline_data/1444/WCTE_offline_R1444S0P58.root',\n",
       " '/eos/experiment/wcte/data/2025_commissioning/offline_data/1444/WCTE_offline_R1444S0P59.root',\n",
       " '/eos/experiment/wcte/data/2025_commissioning/offline_data/1444/WCTE_offline_R1444S0P60.root',\n",
       " '/eos/experiment/wcte/data/2025_commissioning/offline_data/1444/WCTE_offline_R1444S0P61.root',\n",
       " '/eos/experiment/wcte/data/2025_commissioning/offline_data/1444/WCTE_offline_R1444S0P62.root',\n",
       " '/eos/experiment/wcte/data/2025_commissioning/offline_data/1444/WCTE_offline_R1444S0P63.root',\n",
       " '/eos/experiment/wcte/data/2025_commissioning/offline_data/1444/WCTE_offline_R1444S0P64.root',\n",
       " '/eos/experiment/wcte/data/2025_commissioning/offline_data/1444/WCTE_offline_R1444S0P65.root',\n",
       " '/eos/experiment/wcte/data/2025_commissioning/offline_data/1444/WCTE_offline_R1444S0P66.root',\n",
       " '/eos/experiment/wcte/data/2025_commissioning/offline_data/1444/WCTE_offline_R1444S0P67.root',\n",
       " '/eos/experiment/wcte/data/2025_commissioning/offline_data/1444/WCTE_offline_R1444S0P68.root',\n",
       " '/eos/experiment/wcte/data/2025_commissioning/offline_data/1444/WCTE_offline_R1444S0P69.root',\n",
       " '/eos/experiment/wcte/data/2025_commissioning/offline_data/1444/WCTE_offline_R1444S0P70.root',\n",
       " '/eos/experiment/wcte/data/2025_commissioning/offline_data/1444/WCTE_offline_R1444S0P71.root',\n",
       " '/eos/experiment/wcte/data/2025_commissioning/offline_data/1444/WCTE_offline_R1444S0P72.root',\n",
       " '/eos/experiment/wcte/data/2025_commissioning/offline_data/1444/WCTE_offline_R1444S0P73.root',\n",
       " '/eos/experiment/wcte/data/2025_commissioning/offline_data/1444/WCTE_offline_R1444S0P74.root',\n",
       " '/eos/experiment/wcte/data/2025_commissioning/offline_data/1444/WCTE_offline_R1444S0P75.root',\n",
       " '/eos/experiment/wcte/data/2025_commissioning/offline_data/1444/WCTE_offline_R1444S0P76.root',\n",
       " '/eos/experiment/wcte/data/2025_commissioning/offline_data/1444/WCTE_offline_R1444S0P77.root',\n",
       " '/eos/experiment/wcte/data/2025_commissioning/offline_data/1444/WCTE_offline_R1444S0P78.root',\n",
       " '/eos/experiment/wcte/data/2025_commissioning/offline_data/1444/WCTE_offline_R1444S0P79.root',\n",
       " '/eos/experiment/wcte/data/2025_commissioning/offline_data/1444/WCTE_offline_R1444S0P80.root',\n",
       " '/eos/experiment/wcte/data/2025_commissioning/offline_data/1444/WCTE_offline_R1444S0P81.root',\n",
       " '/eos/experiment/wcte/data/2025_commissioning/offline_data/1444/WCTE_offline_R1444S0P82.root',\n",
       " '/eos/experiment/wcte/data/2025_commissioning/offline_data/1444/WCTE_offline_R1444S0P83.root',\n",
       " '/eos/experiment/wcte/data/2025_commissioning/offline_data/1444/WCTE_offline_R1444S0P84.root',\n",
       " '/eos/experiment/wcte/data/2025_commissioning/offline_data/1444/WCTE_offline_R1444S0P85.root',\n",
       " '/eos/experiment/wcte/data/2025_commissioning/offline_data/1444/WCTE_offline_R1444S0P86.root',\n",
       " '/eos/experiment/wcte/data/2025_commissioning/offline_data/1444/WCTE_offline_R1444S0P87.root',\n",
       " '/eos/experiment/wcte/data/2025_commissioning/offline_data/1444/WCTE_offline_R1444S0P88.root',\n",
       " '/eos/experiment/wcte/data/2025_commissioning/offline_data/1444/WCTE_offline_R1444S0P89.root',\n",
       " '/eos/experiment/wcte/data/2025_commissioning/offline_data/1444/WCTE_offline_R1444S0P90.root',\n",
       " '/eos/experiment/wcte/data/2025_commissioning/offline_data/1444/WCTE_offline_R1444S0P91.root',\n",
       " '/eos/experiment/wcte/data/2025_commissioning/offline_data/1444/WCTE_offline_R1444S0P92.root',\n",
       " '/eos/experiment/wcte/data/2025_commissioning/offline_data/1444/WCTE_offline_R1444S0P93.root',\n",
       " '/eos/experiment/wcte/data/2025_commissioning/offline_data/1444/WCTE_offline_R1444S0P94.root',\n",
       " '/eos/experiment/wcte/data/2025_commissioning/offline_data/1444/WCTE_offline_R1444S0P95.root',\n",
       " '/eos/experiment/wcte/data/2025_commissioning/offline_data/1444/WCTE_offline_R1444S0P96.root',\n",
       " '/eos/experiment/wcte/data/2025_commissioning/offline_data/1444/WCTE_offline_R1444S0P97.root',\n",
       " '/eos/experiment/wcte/data/2025_commissioning/offline_data/1444/WCTE_offline_R1444S0P98.root',\n",
       " '/eos/experiment/wcte/data/2025_commissioning/offline_data/1444/WCTE_offline_R1444S0P99.root',\n",
       " '/eos/experiment/wcte/data/2025_commissioning/offline_data/1444/WCTE_offline_R1444S0P100.root',\n",
       " '/eos/experiment/wcte/data/2025_commissioning/offline_data/1444/WCTE_offline_R1444S0P101.root',\n",
       " '/eos/experiment/wcte/data/2025_commissioning/offline_data/1444/WCTE_offline_R1444S0P102.root',\n",
       " '/eos/experiment/wcte/data/2025_commissioning/offline_data/1444/WCTE_offline_R1444S0P103.root',\n",
       " '/eos/experiment/wcte/data/2025_commissioning/offline_data/1444/WCTE_offline_R1444S0P104.root',\n",
       " '/eos/experiment/wcte/data/2025_commissioning/offline_data/1444/WCTE_offline_R1444S0P105.root',\n",
       " '/eos/experiment/wcte/data/2025_commissioning/offline_data/1444/WCTE_offline_R1444S0P106.root',\n",
       " '/eos/experiment/wcte/data/2025_commissioning/offline_data/1444/WCTE_offline_R1444S0P107.root',\n",
       " '/eos/experiment/wcte/data/2025_commissioning/offline_data/1444/WCTE_offline_R1444S0P108.root',\n",
       " '/eos/experiment/wcte/data/2025_commissioning/offline_data/1444/WCTE_offline_R1444S0P109.root',\n",
       " '/eos/experiment/wcte/data/2025_commissioning/offline_data/1444/WCTE_offline_R1444S0P110.root',\n",
       " '/eos/experiment/wcte/data/2025_commissioning/offline_data/1444/WCTE_offline_R1444S0P111.root',\n",
       " '/eos/experiment/wcte/data/2025_commissioning/offline_data/1444/WCTE_offline_R1444S0P112.root',\n",
       " '/eos/experiment/wcte/data/2025_commissioning/offline_data/1444/WCTE_offline_R1444S0P113.root',\n",
       " '/eos/experiment/wcte/data/2025_commissioning/offline_data/1444/WCTE_offline_R1444S0P114.root',\n",
       " '/eos/experiment/wcte/data/2025_commissioning/offline_data/1444/WCTE_offline_R1444S0P115.root',\n",
       " '/eos/experiment/wcte/data/2025_commissioning/offline_data/1444/WCTE_offline_R1444S0P116.root',\n",
       " '/eos/experiment/wcte/data/2025_commissioning/offline_data/1444/WCTE_offline_R1444S0P117.root',\n",
       " '/eos/experiment/wcte/data/2025_commissioning/offline_data/1444/WCTE_offline_R1444S0P118.root',\n",
       " '/eos/experiment/wcte/data/2025_commissioning/offline_data/1444/WCTE_offline_R1444S0P119.root',\n",
       " '/eos/experiment/wcte/data/2025_commissioning/offline_data/1444/WCTE_offline_R1444S0P120.root',\n",
       " '/eos/experiment/wcte/data/2025_commissioning/offline_data/1444/WCTE_offline_R1444S0P121.root',\n",
       " '/eos/experiment/wcte/data/2025_commissioning/offline_data/1444/WCTE_offline_R1444S0P122.root',\n",
       " '/eos/experiment/wcte/data/2025_commissioning/offline_data/1444/WCTE_offline_R1444S0P123.root',\n",
       " '/eos/experiment/wcte/data/2025_commissioning/offline_data/1444/WCTE_offline_R1444S0P124.root',\n",
       " '/eos/experiment/wcte/data/2025_commissioning/offline_data/1444/WCTE_offline_R1444S0P125.root',\n",
       " '/eos/experiment/wcte/data/2025_commissioning/offline_data/1444/WCTE_offline_R1444S0P126.root',\n",
       " '/eos/experiment/wcte/data/2025_commissioning/offline_data/1444/WCTE_offline_R1444S0P127.root',\n",
       " '/eos/experiment/wcte/data/2025_commissioning/offline_data/1444/WCTE_offline_R1444S0P128.root',\n",
       " '/eos/experiment/wcte/data/2025_commissioning/offline_data/1444/WCTE_offline_R1444S0P129.root',\n",
       " '/eos/experiment/wcte/data/2025_commissioning/offline_data/1444/WCTE_offline_R1444S0P130.root',\n",
       " '/eos/experiment/wcte/data/2025_commissioning/offline_data/1444/WCTE_offline_R1444S0P131.root',\n",
       " '/eos/experiment/wcte/data/2025_commissioning/offline_data/1444/WCTE_offline_R1444S0P132.root',\n",
       " '/eos/experiment/wcte/data/2025_commissioning/offline_data/1444/WCTE_offline_R1444S0P133.root',\n",
       " '/eos/experiment/wcte/data/2025_commissioning/offline_data/1444/WCTE_offline_R1444S0P134.root',\n",
       " '/eos/experiment/wcte/data/2025_commissioning/offline_data/1444/WCTE_offline_R1444S0P135.root',\n",
       " '/eos/experiment/wcte/data/2025_commissioning/offline_data/1444/WCTE_offline_R1444S0P136.root',\n",
       " '/eos/experiment/wcte/data/2025_commissioning/offline_data/1444/WCTE_offline_R1444S0P137.root',\n",
       " '/eos/experiment/wcte/data/2025_commissioning/offline_data/1444/WCTE_offline_R1444S0P138.root',\n",
       " '/eos/experiment/wcte/data/2025_commissioning/offline_data/1444/WCTE_offline_R1444S0P139.root',\n",
       " '/eos/experiment/wcte/data/2025_commissioning/offline_data/1444/WCTE_offline_R1444S0P140.root',\n",
       " '/eos/experiment/wcte/data/2025_commissioning/offline_data/1444/WCTE_offline_R1444S0P141.root',\n",
       " '/eos/experiment/wcte/data/2025_commissioning/offline_data/1444/WCTE_offline_R1444S0P142.root',\n",
       " '/eos/experiment/wcte/data/2025_commissioning/offline_data/1444/WCTE_offline_R1444S0P143.root',\n",
       " '/eos/experiment/wcte/data/2025_commissioning/offline_data/1444/WCTE_offline_R1444S0P144.root',\n",
       " '/eos/experiment/wcte/data/2025_commissioning/offline_data/1444/WCTE_offline_R1444S0P145.root',\n",
       " '/eos/experiment/wcte/data/2025_commissioning/offline_data/1444/WCTE_offline_R1444S0P146.root',\n",
       " '/eos/experiment/wcte/data/2025_commissioning/offline_data/1444/WCTE_offline_R1444S0P147.root',\n",
       " '/eos/experiment/wcte/data/2025_commissioning/offline_data/1444/WCTE_offline_R1444S0P148.root',\n",
       " '/eos/experiment/wcte/data/2025_commissioning/offline_data/1444/WCTE_offline_R1444S0P149.root',\n",
       " '/eos/experiment/wcte/data/2025_commissioning/offline_data/1444/WCTE_offline_R1444S0P150.root',\n",
       " '/eos/experiment/wcte/data/2025_commissioning/offline_data/1444/WCTE_offline_R1444S0P151.root',\n",
       " '/eos/experiment/wcte/data/2025_commissioning/offline_data/1444/WCTE_offline_R1444S0P152.root',\n",
       " '/eos/experiment/wcte/data/2025_commissioning/offline_data/1444/WCTE_offline_R1444S0P153.root',\n",
       " '/eos/experiment/wcte/data/2025_commissioning/offline_data/1444/WCTE_offline_R1444S0P154.root',\n",
       " '/eos/experiment/wcte/data/2025_commissioning/offline_data/1444/WCTE_offline_R1444S0P155.root',\n",
       " '/eos/experiment/wcte/data/2025_commissioning/offline_data/1444/WCTE_offline_R1444S0P156.root',\n",
       " '/eos/experiment/wcte/data/2025_commissioning/offline_data/1444/WCTE_offline_R1444S0P157.root',\n",
       " '/eos/experiment/wcte/data/2025_commissioning/offline_data/1444/WCTE_offline_R1444S0P158.root',\n",
       " '/eos/experiment/wcte/data/2025_commissioning/offline_data/1444/WCTE_offline_R1444S0P159.root',\n",
       " '/eos/experiment/wcte/data/2025_commissioning/offline_data/1444/WCTE_offline_R1444S0P160.root',\n",
       " '/eos/experiment/wcte/data/2025_commissioning/offline_data/1444/WCTE_offline_R1444S0P161.root',\n",
       " '/eos/experiment/wcte/data/2025_commissioning/offline_data/1444/WCTE_offline_R1444S0P162.root',\n",
       " '/eos/experiment/wcte/data/2025_commissioning/offline_data/1444/WCTE_offline_R1444S0P163.root',\n",
       " '/eos/experiment/wcte/data/2025_commissioning/offline_data/1444/WCTE_offline_R1444S0P164.root',\n",
       " '/eos/experiment/wcte/data/2025_commissioning/offline_data/1444/WCTE_offline_R1444S0P165.root',\n",
       " '/eos/experiment/wcte/data/2025_commissioning/offline_data/1444/WCTE_offline_R1444S0P166.root',\n",
       " '/eos/experiment/wcte/data/2025_commissioning/offline_data/1444/WCTE_offline_R1444S0P167.root',\n",
       " '/eos/experiment/wcte/data/2025_commissioning/offline_data/1444/WCTE_offline_R1444S0P168.root',\n",
       " '/eos/experiment/wcte/data/2025_commissioning/offline_data/1444/WCTE_offline_R1444S0P169.root',\n",
       " '/eos/experiment/wcte/data/2025_commissioning/offline_data/1444/WCTE_offline_R1444S0P170.root',\n",
       " '/eos/experiment/wcte/data/2025_commissioning/offline_data/1444/WCTE_offline_R1444S0P171.root',\n",
       " '/eos/experiment/wcte/data/2025_commissioning/offline_data/1444/WCTE_offline_R1444S0P172.root',\n",
       " '/eos/experiment/wcte/data/2025_commissioning/offline_data/1444/WCTE_offline_R1444S0P173.root',\n",
       " '/eos/experiment/wcte/data/2025_commissioning/offline_data/1444/WCTE_offline_R1444S0P174.root',\n",
       " '/eos/experiment/wcte/data/2025_commissioning/offline_data/1444/WCTE_offline_R1444S0P175.root',\n",
       " '/eos/experiment/wcte/data/2025_commissioning/offline_data/1444/WCTE_offline_R1444S0P176.root',\n",
       " '/eos/experiment/wcte/data/2025_commissioning/offline_data/1444/WCTE_offline_R1444S0P177.root',\n",
       " '/eos/experiment/wcte/data/2025_commissioning/offline_data/1444/WCTE_offline_R1444S0P178.root',\n",
       " '/eos/experiment/wcte/data/2025_commissioning/offline_data/1444/WCTE_offline_R1444S0P179.root',\n",
       " '/eos/experiment/wcte/data/2025_commissioning/offline_data/1444/WCTE_offline_R1444S0P180.root',\n",
       " '/eos/experiment/wcte/data/2025_commissioning/offline_data/1444/WCTE_offline_R1444S0P181.root',\n",
       " '/eos/experiment/wcte/data/2025_commissioning/offline_data/1444/WCTE_offline_R1444S0P182.root',\n",
       " '/eos/experiment/wcte/data/2025_commissioning/offline_data/1444/WCTE_offline_R1444S0P183.root',\n",
       " '/eos/experiment/wcte/data/2025_commissioning/offline_data/1444/WCTE_offline_R1444S0P184.root',\n",
       " '/eos/experiment/wcte/data/2025_commissioning/offline_data/1444/WCTE_offline_R1444S0P185.root',\n",
       " '/eos/experiment/wcte/data/2025_commissioning/offline_data/1444/WCTE_offline_R1444S0P186.root',\n",
       " '/eos/experiment/wcte/data/2025_commissioning/offline_data/1444/WCTE_offline_R1444S0P187.root',\n",
       " '/eos/experiment/wcte/data/2025_commissioning/offline_data/1444/WCTE_offline_R1444S0P188.root',\n",
       " '/eos/experiment/wcte/data/2025_commissioning/offline_data/1444/WCTE_offline_R1444S0P189.root',\n",
       " '/eos/experiment/wcte/data/2025_commissioning/offline_data/1444/WCTE_offline_R1444S0P190.root',\n",
       " '/eos/experiment/wcte/data/2025_commissioning/offline_data/1444/WCTE_offline_R1444S0P191.root',\n",
       " '/eos/experiment/wcte/data/2025_commissioning/offline_data/1444/WCTE_offline_R1444S0P192.root',\n",
       " '/eos/experiment/wcte/data/2025_commissioning/offline_data/1444/WCTE_offline_R1444S0P193.root',\n",
       " '/eos/experiment/wcte/data/2025_commissioning/offline_data/1444/WCTE_offline_R1444S0P194.root',\n",
       " '/eos/experiment/wcte/data/2025_commissioning/offline_data/1444/WCTE_offline_R1444S0P195.root',\n",
       " '/eos/experiment/wcte/data/2025_commissioning/offline_data/1444/WCTE_offline_R1444S0P196.root',\n",
       " '/eos/experiment/wcte/data/2025_commissioning/offline_data/1444/WCTE_offline_R1444S0P197.root',\n",
       " '/eos/experiment/wcte/data/2025_commissioning/offline_data/1444/WCTE_offline_R1444S0P198.root',\n",
       " '/eos/experiment/wcte/data/2025_commissioning/offline_data/1444/WCTE_offline_R1444S0P199.root',\n",
       " '/eos/experiment/wcte/data/2025_commissioning/offline_data/1444/WCTE_offline_R1444S0P200.root',\n",
       " '/eos/experiment/wcte/data/2025_commissioning/offline_data/1444/WCTE_offline_R1444S0P201.root',\n",
       " '/eos/experiment/wcte/data/2025_commissioning/offline_data/1444/WCTE_offline_R1444S0P202.root',\n",
       " '/eos/experiment/wcte/data/2025_commissioning/offline_data/1444/WCTE_offline_R1444S0P203.root',\n",
       " '/eos/experiment/wcte/data/2025_commissioning/offline_data/1444/WCTE_offline_R1444S0P204.root',\n",
       " '/eos/experiment/wcte/data/2025_commissioning/offline_data/1444/WCTE_offline_R1444S0P205.root',\n",
       " '/eos/experiment/wcte/data/2025_commissioning/offline_data/1444/WCTE_offline_R1444S0P206.root',\n",
       " '/eos/experiment/wcte/data/2025_commissioning/offline_data/1444/WCTE_offline_R1444S0P207.root',\n",
       " '/eos/experiment/wcte/data/2025_commissioning/offline_data/1444/WCTE_offline_R1444S0P208.root',\n",
       " '/eos/experiment/wcte/data/2025_commissioning/offline_data/1444/WCTE_offline_R1444S0P209.root',\n",
       " '/eos/experiment/wcte/data/2025_commissioning/offline_data/1444/WCTE_offline_R1444S0P210.root',\n",
       " '/eos/experiment/wcte/data/2025_commissioning/offline_data/1444/WCTE_offline_R1444S0P211.root',\n",
       " '/eos/experiment/wcte/data/2025_commissioning/offline_data/1444/WCTE_offline_R1444S0P212.root',\n",
       " '/eos/experiment/wcte/data/2025_commissioning/offline_data/1444/WCTE_offline_R1444S0P213.root',\n",
       " '/eos/experiment/wcte/data/2025_commissioning/offline_data/1444/WCTE_offline_R1444S0P214.root',\n",
       " '/eos/experiment/wcte/data/2025_commissioning/offline_data/1444/WCTE_offline_R1444S0P215.root',\n",
       " '/eos/experiment/wcte/data/2025_commissioning/offline_data/1444/WCTE_offline_R1444S0P216.root',\n",
       " '/eos/experiment/wcte/data/2025_commissioning/offline_data/1444/WCTE_offline_R1444S0P217.root',\n",
       " '/eos/experiment/wcte/data/2025_commissioning/offline_data/1444/WCTE_offline_R1444S0P218.root',\n",
       " '/eos/experiment/wcte/data/2025_commissioning/offline_data/1444/WCTE_offline_R1444S0P219.root',\n",
       " '/eos/experiment/wcte/data/2025_commissioning/offline_data/1444/WCTE_offline_R1444S0P220.root',\n",
       " '/eos/experiment/wcte/data/2025_commissioning/offline_data/1444/WCTE_offline_R1444S0P221.root',\n",
       " '/eos/experiment/wcte/data/2025_commissioning/offline_data/1444/WCTE_offline_R1444S0P222.root',\n",
       " '/eos/experiment/wcte/data/2025_commissioning/offline_data/1444/WCTE_offline_R1444S0P223.root',\n",
       " '/eos/experiment/wcte/data/2025_commissioning/offline_data/1444/WCTE_offline_R1444S0P224.root',\n",
       " '/eos/experiment/wcte/data/2025_commissioning/offline_data/1444/WCTE_offline_R1444S0P225.root',\n",
       " '/eos/experiment/wcte/data/2025_commissioning/offline_data/1444/WCTE_offline_R1444S0P226.root',\n",
       " '/eos/experiment/wcte/data/2025_commissioning/offline_data/1444/WCTE_offline_R1444S0P227.root',\n",
       " '/eos/experiment/wcte/data/2025_commissioning/offline_data/1444/WCTE_offline_R1444S0P228.root',\n",
       " '/eos/experiment/wcte/data/2025_commissioning/offline_data/1444/WCTE_offline_R1444S0P229.root',\n",
       " '/eos/experiment/wcte/data/2025_commissioning/offline_data/1444/WCTE_offline_R1444S0P230.root',\n",
       " '/eos/experiment/wcte/data/2025_commissioning/offline_data/1444/WCTE_offline_R1444S0P231.root',\n",
       " '/eos/experiment/wcte/data/2025_commissioning/offline_data/1444/WCTE_offline_R1444S0P232.root',\n",
       " '/eos/experiment/wcte/data/2025_commissioning/offline_data/1444/WCTE_offline_R1444S0P233.root',\n",
       " '/eos/experiment/wcte/data/2025_commissioning/offline_data/1444/WCTE_offline_R1444S0P234.root',\n",
       " '/eos/experiment/wcte/data/2025_commissioning/offline_data/1444/WCTE_offline_R1444S0P235.root',\n",
       " '/eos/experiment/wcte/data/2025_commissioning/offline_data/1444/WCTE_offline_R1444S0P236.root',\n",
       " '/eos/experiment/wcte/data/2025_commissioning/offline_data/1444/WCTE_offline_R1444S0P237.root',\n",
       " '/eos/experiment/wcte/data/2025_commissioning/offline_data/1444/WCTE_offline_R1444S0P238.root',\n",
       " '/eos/experiment/wcte/data/2025_commissioning/offline_data/1444/WCTE_offline_R1444S0P239.root',\n",
       " '/eos/experiment/wcte/data/2025_commissioning/offline_data/1444/WCTE_offline_R1444S0P240.root',\n",
       " '/eos/experiment/wcte/data/2025_commissioning/offline_data/1444/WCTE_offline_R1444S0P241.root',\n",
       " '/eos/experiment/wcte/data/2025_commissioning/offline_data/1444/WCTE_offline_R1444S0P242.root',\n",
       " '/eos/experiment/wcte/data/2025_commissioning/offline_data/1444/WCTE_offline_R1444S0P243.root',\n",
       " '/eos/experiment/wcte/data/2025_commissioning/offline_data/1444/WCTE_offline_R1444S0P244.root',\n",
       " '/eos/experiment/wcte/data/2025_commissioning/offline_data/1444/WCTE_offline_R1444S0P245.root',\n",
       " '/eos/experiment/wcte/data/2025_commissioning/offline_data/1444/WCTE_offline_R1444S0P246.root',\n",
       " '/eos/experiment/wcte/data/2025_commissioning/offline_data/1444/WCTE_offline_R1444S0P247.root',\n",
       " '/eos/experiment/wcte/data/2025_commissioning/offline_data/1444/WCTE_offline_R1444S0P248.root',\n",
       " '/eos/experiment/wcte/data/2025_commissioning/offline_data/1444/WCTE_offline_R1444S0P249.root',\n",
       " '/eos/experiment/wcte/data/2025_commissioning/offline_data/1444/WCTE_offline_R1444S0P250.root',\n",
       " '/eos/experiment/wcte/data/2025_commissioning/offline_data/1444/WCTE_offline_R1444S0P251.root',\n",
       " '/eos/experiment/wcte/data/2025_commissioning/offline_data/1444/WCTE_offline_R1444S0P252.root',\n",
       " '/eos/experiment/wcte/data/2025_commissioning/offline_data/1444/WCTE_offline_R1444S0P253.root',\n",
       " '/eos/experiment/wcte/data/2025_commissioning/offline_data/1444/WCTE_offline_R1444S0P254.root',\n",
       " '/eos/experiment/wcte/data/2025_commissioning/offline_data/1444/WCTE_offline_R1444S0P255.root',\n",
       " '/eos/experiment/wcte/data/2025_commissioning/offline_data/1444/WCTE_offline_R1444S0P256.root',\n",
       " '/eos/experiment/wcte/data/2025_commissioning/offline_data/1444/WCTE_offline_R1444S0P257.root',\n",
       " '/eos/experiment/wcte/data/2025_commissioning/offline_data/1444/WCTE_offline_R1444S0P258.root',\n",
       " '/eos/experiment/wcte/data/2025_commissioning/offline_data/1444/WCTE_offline_R1444S0P259.root',\n",
       " '/eos/experiment/wcte/data/2025_commissioning/offline_data/1444/WCTE_offline_R1444S0P260.root',\n",
       " '/eos/experiment/wcte/data/2025_commissioning/offline_data/1444/WCTE_offline_R1444S0P261.root',\n",
       " '/eos/experiment/wcte/data/2025_commissioning/offline_data/1444/WCTE_offline_R1444S0P262.root',\n",
       " '/eos/experiment/wcte/data/2025_commissioning/offline_data/1444/WCTE_offline_R1444S0P263.root',\n",
       " '/eos/experiment/wcte/data/2025_commissioning/offline_data/1444/WCTE_offline_R1444S0P264.root',\n",
       " '/eos/experiment/wcte/data/2025_commissioning/offline_data/1444/WCTE_offline_R1444S0P265.root',\n",
       " '/eos/experiment/wcte/data/2025_commissioning/offline_data/1444/WCTE_offline_R1444S0P266.root',\n",
       " '/eos/experiment/wcte/data/2025_commissioning/offline_data/1444/WCTE_offline_R1444S0P267.root',\n",
       " '/eos/experiment/wcte/data/2025_commissioning/offline_data/1444/WCTE_offline_R1444S0P268.root',\n",
       " '/eos/experiment/wcte/data/2025_commissioning/offline_data/1444/WCTE_offline_R1444S0P269.root',\n",
       " '/eos/experiment/wcte/data/2025_commissioning/offline_data/1444/WCTE_offline_R1444S0P270.root',\n",
       " '/eos/experiment/wcte/data/2025_commissioning/offline_data/1444/WCTE_offline_R1444S0P271.root',\n",
       " '/eos/experiment/wcte/data/2025_commissioning/offline_data/1444/WCTE_offline_R1444S0P272.root',\n",
       " '/eos/experiment/wcte/data/2025_commissioning/offline_data/1444/WCTE_offline_R1444S0P273.root',\n",
       " '/eos/experiment/wcte/data/2025_commissioning/offline_data/1444/WCTE_offline_R1444S0P274.root',\n",
       " '/eos/experiment/wcte/data/2025_commissioning/offline_data/1444/WCTE_offline_R1444S0P275.root',\n",
       " '/eos/experiment/wcte/data/2025_commissioning/offline_data/1444/WCTE_offline_R1444S0P276.root',\n",
       " '/eos/experiment/wcte/data/2025_commissioning/offline_data/1444/WCTE_offline_R1444S0P277.root',\n",
       " '/eos/experiment/wcte/data/2025_commissioning/offline_data/1444/WCTE_offline_R1444S0P278.root',\n",
       " '/eos/experiment/wcte/data/2025_commissioning/offline_data/1444/WCTE_offline_R1444S0P279.root',\n",
       " '/eos/experiment/wcte/data/2025_commissioning/offline_data/1444/WCTE_offline_R1444S0P280.root',\n",
       " '/eos/experiment/wcte/data/2025_commissioning/offline_data/1444/WCTE_offline_R1444S0P281.root',\n",
       " '/eos/experiment/wcte/data/2025_commissioning/offline_data/1444/WCTE_offline_R1444S0P282.root',\n",
       " '/eos/experiment/wcte/data/2025_commissioning/offline_data/1444/WCTE_offline_R1444S0P283.root',\n",
       " '/eos/experiment/wcte/data/2025_commissioning/offline_data/1444/WCTE_offline_R1444S0P284.root',\n",
       " '/eos/experiment/wcte/data/2025_commissioning/offline_data/1444/WCTE_offline_R1444S0P285.root',\n",
       " '/eos/experiment/wcte/data/2025_commissioning/offline_data/1444/WCTE_offline_R1444S0P286.root',\n",
       " '/eos/experiment/wcte/data/2025_commissioning/offline_data/1444/WCTE_offline_R1444S0P287.root',\n",
       " '/eos/experiment/wcte/data/2025_commissioning/offline_data/1444/WCTE_offline_R1444S0P288.root',\n",
       " '/eos/experiment/wcte/data/2025_commissioning/offline_data/1444/WCTE_offline_R1444S0P289.root',\n",
       " '/eos/experiment/wcte/data/2025_commissioning/offline_data/1444/WCTE_offline_R1444S0P290.root',\n",
       " '/eos/experiment/wcte/data/2025_commissioning/offline_data/1444/WCTE_offline_R1444S0P291.root',\n",
       " '/eos/experiment/wcte/data/2025_commissioning/offline_data/1444/WCTE_offline_R1444S0P292.root',\n",
       " '/eos/experiment/wcte/data/2025_commissioning/offline_data/1444/WCTE_offline_R1444S0P293.root',\n",
       " '/eos/experiment/wcte/data/2025_commissioning/offline_data/1444/WCTE_offline_R1444S0P294.root',\n",
       " '/eos/experiment/wcte/data/2025_commissioning/offline_data/1444/WCTE_offline_R1444S0P295.root',\n",
       " '/eos/experiment/wcte/data/2025_commissioning/offline_data/1444/WCTE_offline_R1444S0P296.root',\n",
       " '/eos/experiment/wcte/data/2025_commissioning/offline_data/1444/WCTE_offline_R1444S0P297.root',\n",
       " '/eos/experiment/wcte/data/2025_commissioning/offline_data/1444/WCTE_offline_R1444S0P298.root',\n",
       " '/eos/experiment/wcte/data/2025_commissioning/offline_data/1444/WCTE_offline_R1444S0P299.root',\n",
       " '/eos/experiment/wcte/data/2025_commissioning/offline_data/1444/WCTE_offline_R1444S0P300.root',\n",
       " '/eos/experiment/wcte/data/2025_commissioning/offline_data/1444/WCTE_offline_R1444S0P301.root',\n",
       " '/eos/experiment/wcte/data/2025_commissioning/offline_data/1444/WCTE_offline_R1444S0P302.root',\n",
       " '/eos/experiment/wcte/data/2025_commissioning/offline_data/1444/WCTE_offline_R1444S0P303.root',\n",
       " '/eos/experiment/wcte/data/2025_commissioning/offline_data/1444/WCTE_offline_R1444S0P304.root',\n",
       " '/eos/experiment/wcte/data/2025_commissioning/offline_data/1444/WCTE_offline_R1444S0P305.root',\n",
       " '/eos/experiment/wcte/data/2025_commissioning/offline_data/1444/WCTE_offline_R1444S0P306.root',\n",
       " '/eos/experiment/wcte/data/2025_commissioning/offline_data/1444/WCTE_offline_R1444S0P307.root',\n",
       " '/eos/experiment/wcte/data/2025_commissioning/offline_data/1444/WCTE_offline_R1444S0P308.root',\n",
       " '/eos/experiment/wcte/data/2025_commissioning/offline_data/1444/WCTE_offline_R1444S0P309.root',\n",
       " '/eos/experiment/wcte/data/2025_commissioning/offline_data/1444/WCTE_offline_R1444S0P310.root',\n",
       " '/eos/experiment/wcte/data/2025_commissioning/offline_data/1444/WCTE_offline_R1444S0P311.root',\n",
       " '/eos/experiment/wcte/data/2025_commissioning/offline_data/1444/WCTE_offline_R1444S0P312.root',\n",
       " '/eos/experiment/wcte/data/2025_commissioning/offline_data/1444/WCTE_offline_R1444S0P313.root',\n",
       " '/eos/experiment/wcte/data/2025_commissioning/offline_data/1444/WCTE_offline_R1444S0P314.root',\n",
       " '/eos/experiment/wcte/data/2025_commissioning/offline_data/1444/WCTE_offline_R1444S0P315.root',\n",
       " '/eos/experiment/wcte/data/2025_commissioning/offline_data/1444/WCTE_offline_R1444S0P316.root',\n",
       " '/eos/experiment/wcte/data/2025_commissioning/offline_data/1444/WCTE_offline_R1444S0P317.root',\n",
       " '/eos/experiment/wcte/data/2025_commissioning/offline_data/1444/WCTE_offline_R1444S0P318.root',\n",
       " '/eos/experiment/wcte/data/2025_commissioning/offline_data/1444/WCTE_offline_R1444S0P319.root',\n",
       " '/eos/experiment/wcte/data/2025_commissioning/offline_data/1444/WCTE_offline_R1444S0P320.root',\n",
       " '/eos/experiment/wcte/data/2025_commissioning/offline_data/1444/WCTE_offline_R1444S0P321.root',\n",
       " '/eos/experiment/wcte/data/2025_commissioning/offline_data/1444/WCTE_offline_R1444S0P322.root',\n",
       " '/eos/experiment/wcte/data/2025_commissioning/offline_data/1444/WCTE_offline_R1444S0P323.root']"
      ]
     },
     "execution_count": 4,
     "metadata": {},
     "output_type": "execute_result"
    }
   ],
   "source": [
    "run_files"
   ]
  },
  {
   "cell_type": "code",
   "execution_count": 5,
   "id": "a95346fc",
   "metadata": {},
   "outputs": [],
   "source": [
    "# def read_all_parts():\n",
    "#     tree = uproot.open(files[0])\n",
    "#     keys = tree.keys()\n",
    "#     print(keys)\n",
    "\n",
    "#     branch = tree[keys[0]]\n",
    "#     primal_event_numbers = [branch['event_number'].array().to_numpy()]\n",
    "#     primal_window_times  = [branch['window_time'].array().to_numpy()]\n",
    "\n",
    "#     for f in tqdm(files[1:]):\n",
    "#         tree2 = uproot.open(f)\n",
    "#         keys2 = tree2.keys()\n",
    "#         for key2 in keys2:\n",
    "#             branch2 = tree2[key2]\n",
    "#             events = branch2['event_number'].array().to_numpy()\n",
    "#             if len(events) != 0:\n",
    "#                 primal_event_numbers.append(branch2['event_number'].array().to_numpy()+primal_event_numbers[-1].max()+1)\n",
    "#                 primal_window_times.append(branch2['window_time'].array().to_numpy()+primal_window_times[-1].max()+1)   "
   ]
  },
  {
   "cell_type": "markdown",
   "id": "ea7d0d0d",
   "metadata": {},
   "source": [
    "# Select The Part File You Want To Use"
   ]
  },
  {
   "cell_type": "markdown",
   "id": "0b40b063",
   "metadata": {},
   "source": [
    "# Select Only Those Events With The Same Number Of Waveforms And Hits"
   ]
  },
  {
   "cell_type": "markdown",
   "id": "c4692693",
   "metadata": {},
   "source": [
    "# For Those Good Events, Select Only Hits In Card 130 and Corresponding Channels And Etc"
   ]
  },
  {
   "cell_type": "code",
   "execution_count": 6,
   "id": "2591914a",
   "metadata": {},
   "outputs": [],
   "source": [
    "def selectec_good_events(part_file):\n",
    "    tree = uproot.open(run_files[part_file]+\":WCTEReadoutWindows\")\n",
    "\n",
    "    file_hit_card_ids      = tree[\"hit_mpmt_card_ids\"].array()\n",
    "    file_waveform_card_ids = tree[\"pmt_waveform_mpmt_card_ids\"].array()\n",
    "\n",
    "    num_hits = np.array([len(h) for h in file_hit_card_ids])\n",
    "    num_wave = np.array([len(w) for w in file_waveform_card_ids])\n",
    "    good_mask = (num_hits == num_wave) & (num_hits != 0)\n",
    "\n",
    "    good_events = np.where(good_mask)[0]\n",
    "\n",
    "    return good_events"
   ]
  },
  {
   "cell_type": "code",
   "execution_count": 7,
   "id": "240cb6c4",
   "metadata": {},
   "outputs": [],
   "source": [
    "def get_files_from_part(part_file):\n",
    "    tree = uproot.open(run_files[part_file]+\":WCTEReadoutWindows\")\n",
    "    file_hit_card_ids    = tree[\"hit_mpmt_card_ids\"].array()\n",
    "    file_hit_channel_ids = tree[\"hit_pmt_channel_ids\"].array()\n",
    "    file_hit_charges     = tree[\"hit_pmt_charges\"].array()\n",
    "    file_hit_times       = tree[\"hit_pmt_times\"].array()\n",
    "\n",
    "    return file_hit_card_ids, file_hit_channel_ids, file_hit_charges, file_hit_times"
   ]
  },
  {
   "cell_type": "code",
   "execution_count": 8,
   "id": "0cce6235",
   "metadata": {},
   "outputs": [],
   "source": [
    "def select_good_parts(parts):\n",
    "    good_parts = []\n",
    "    for part_file in parts:\n",
    "        tree = uproot.open(run_files[part_file]+\":WCTEReadoutWindows\")\n",
    "        if np.any(tree[\"event_number\"].array()):\n",
    "            good_parts.append(part_file)\n",
    "\n",
    "    return good_parts"
   ]
  },
  {
   "cell_type": "code",
   "execution_count": 9,
   "id": "487c2e5b",
   "metadata": {},
   "outputs": [],
   "source": [
    "def select_charges_for_beam_monitor(good_events, files, card, channels):#, variable=\"charge\"):\n",
    "    \n",
    "    file_hit_charges_masked_LChannel = []\n",
    "    file_hit_charges_masked_RChannel = []\n",
    "\n",
    "    for ievt in good_events:\n",
    "        event_hit_card_ids    = files[0][ievt]\n",
    "        event_hit_channel_ids = files[1][ievt]\n",
    "        event_hit_charges     = files[2][ievt]\n",
    "        event_hit_times       = files[3][ievt]\n",
    "\n",
    "        # Create mask to card 130\n",
    "        # Create mask to channels 7&8 which correspond to ACT3L-R\n",
    "        # Combine masks\n",
    "        # Apply masks to event_hit_charges to get the charge in those specific channels for that specific card\n",
    "        mask_card = event_hit_card_ids == card\n",
    "        mask_channel_L = (event_hit_channel_ids == channels[0])\n",
    "        mask_channel_R = (event_hit_channel_ids == channels[1])\n",
    "        combined_mask_L = mask_card & mask_channel_L\n",
    "        combined_mask_R = mask_card & mask_channel_R\n",
    "\n",
    "        # if variable == \"charge\":\n",
    "        l = event_hit_charges[combined_mask_L]\n",
    "        r = event_hit_charges[combined_mask_R]\n",
    "        if len(l) == len(r):\n",
    "            file_hit_charges_masked_LChannel.append(l)\n",
    "            file_hit_charges_masked_RChannel.append(r)\n",
    "\n",
    "        # elif variable == \"time\":\n",
    "        #     l = event_hit_times[combined_mask_L]\n",
    "        #     r = event_hit_times[combined_mask_R]\n",
    "        #     if len(l) == len(r):\n",
    "        #         file_hit_charges_masked_LChannel.append(event_hit_times[combined_mask_L])\n",
    "        #         file_hit_charges_masked_RChannel.append(event_hit_times[combined_mask_R])\n",
    "\n",
    "    file_hit_charges_masked_LChannel = ak.flatten(file_hit_charges_masked_LChannel)\n",
    "    file_hit_charges_masked_RChannel = ak.flatten(file_hit_charges_masked_RChannel)\n",
    "\n",
    "    return file_hit_charges_masked_LChannel, file_hit_charges_masked_RChannel"
   ]
  },
  {
   "cell_type": "code",
   "execution_count": 10,
   "id": "8de2d1b8",
   "metadata": {},
   "outputs": [],
   "source": [
    "good_parts = select_good_parts(part_files)"
   ]
  },
  {
   "cell_type": "code",
   "execution_count": null,
   "id": "9d381603",
   "metadata": {},
   "outputs": [
    {
     "data": {
      "application/vnd.jupyter.widget-view+json": {
       "model_id": "b5ce886cab0f4cd4a03acbfc276d3acb",
       "version_major": 2,
       "version_minor": 0
      },
      "text/plain": [
       "  0%|          | 0/265 [00:00<?, ?it/s]"
      ]
     },
     "metadata": {},
     "output_type": "display_data"
    }
   ],
   "source": [
    "# ACT0\n",
    "ACT0L_charges = []\n",
    "ACT0R_charges = []\n",
    "# ACT1\n",
    "ACT1L_charges = []\n",
    "ACT1R_charges = []\n",
    "# ACT2\n",
    "ACT2L_charges = []\n",
    "ACT2R_charges = []\n",
    "for part in tqdm(good_parts, total=len(good_parts)):\n",
    "    good_events = selectec_good_events(part)\n",
    "\n",
    "    files = get_files_from_part(part)\n",
    "\n",
    "    # ACT0 and ACT1 and ACT2\n",
    "    # ACT0\n",
    "    file_hit_charges_ACT0L, file_hit_charges_ACT0R = select_charges_for_beam_monitor(good_events, files, 130, [0,1])\n",
    "    ACT0L_charges.append(file_hit_charges_ACT0L)\n",
    "    ACT0R_charges.append(file_hit_charges_ACT0R)\n",
    "    # ACT1\n",
    "    file_hit_charges_ACT1L, file_hit_charges_ACT1R = select_charges_for_beam_monitor(good_events, files, 130, [2,3])\n",
    "    ACT1L_charges.append(file_hit_charges_ACT1L)\n",
    "    ACT1R_charges.append(file_hit_charges_ACT1R)\n",
    "    # ACT2\n",
    "    file_hit_charges_ACT2L, file_hit_charges_ACT2R = select_charges_for_beam_monitor(good_events, files, 130, [5,6])\n",
    "    ACT2L_charges.append(file_hit_charges_ACT2L)\n",
    "    ACT2R_charges.append(file_hit_charges_ACT2R)"
   ]
  },
  {
   "cell_type": "code",
   "execution_count": null,
   "id": "02210dd3",
   "metadata": {},
   "outputs": [
    {
     "name": "stdout",
     "output_type": "stream",
     "text": [
      "41700\n",
      "41700\n",
      "45805\n",
      "45805\n",
      "47624\n",
      "47624\n"
     ]
    }
   ],
   "source": [
    "# ACT0\n",
    "ACT0L_charges = ak.flatten(ACT0L_charges)\n",
    "ACT0R_charges = ak.flatten(ACT0R_charges)\n",
    "ACT0L_charges = np.asarray(ACT0L_charges)\n",
    "ACT0R_charges = np.asarray(ACT0R_charges)\n",
    "print(len(ACT0L_charges))\n",
    "print(len(ACT0R_charges))\n",
    "# ACT1\n",
    "ACT1L_charges = ak.flatten(ACT1L_charges)\n",
    "ACT1R_charges = ak.flatten(ACT1R_charges)\n",
    "ACT1L_charges = np.asarray(ACT1L_charges)\n",
    "ACT1R_charges = np.asarray(ACT1R_charges)\n",
    "print(len(ACT1L_charges))\n",
    "print(len(ACT1R_charges))\n",
    "# ACT2\n",
    "ACT2L_charges = ak.flatten(ACT2L_charges)\n",
    "ACT2R_charges = ak.flatten(ACT2R_charges)\n",
    "ACT2L_charges = np.asarray(ACT2L_charges)\n",
    "ACT2R_charges = np.asarray(ACT2R_charges)\n",
    "print(len(ACT2L_charges))\n",
    "print(len(ACT2R_charges))"
   ]
  },
  {
   "cell_type": "code",
   "execution_count": 130,
   "id": "e0978199",
   "metadata": {},
   "outputs": [],
   "source": [
    "ACTL = [i+j+k for (i,j,k) in zip(ACT0L_charges, ACT1L_charges, ACT2L_charges)]\n",
    "ACTR = [i+j+k for (i,j,k) in zip(ACT0R_charges, ACT1R_charges, ACT2R_charges)]"
   ]
  },
  {
   "cell_type": "code",
   "execution_count": 140,
   "id": "6f5c4211",
   "metadata": {},
   "outputs": [
    {
     "data": {
      "image/png": "[encoded data removed]",
      "text/plain": [
       "<Figure size 1000x700 with 2 Axes>"
      ]
     },
     "metadata": {},
     "output_type": "display_data"
    }
   ],
   "source": [
    "fig = plt.figure(figsize=(10,7))\n",
    "h = plt.hist2d(ACTL, ACTR, bins=(100, 100), norm=\"log\", range=((-200, 11500), (0, 11000)));\n",
    "plt.colorbar(h[3]);\n",
    "plt.ylabel(\"ACT0-2 right\");\n",
    "plt.xlabel(\"ACT0-2 left\");"
   ]
  },
  {
   "cell_type": "code",
   "execution_count": null,
   "id": "91b4d7b5",
   "metadata": {},
   "outputs": [
    {
     "data": {
      "application/vnd.jupyter.widget-view+json": {
       "model_id": "ce50e0b54ed34862b6ecd4f60424bfc1",
       "version_major": 2,
       "version_minor": 0
      },
      "text/plain": [
       "  0%|          | 0/265 [00:00<?, ?it/s]"
      ]
     },
     "metadata": {},
     "output_type": "display_data"
    }
   ],
   "source": [
    "ACT3L_charge = []\n",
    "ACT3R_charge = []\n",
    "\n",
    "good_parts = select_good_parts(part_files)\n",
    "\n",
    "for part in tqdm(good_parts, total=len(good_parts)):\n",
    "    good_events = selectec_good_events(part)\n",
    "    files       = get_files_from_part(part)\n",
    "    \n",
    "    events     = good_events\n",
    "    card_id    = files[0]\n",
    "    channel_id = files[1]\n",
    "    charge     = files[2]\n",
    "    time       = files[3]\n",
    "\n",
    "    # data = [(ievt, icard, ichan, ichar, itime) for ievt, icard, ichan, ichar, itime in zip(events, card_id, channel_id, charge, time)]\n",
    "\n",
    "    # df = pd.DataFrame(data, columns=['event_id', \"A\", \"B\", \"C\", \"D\"])\n",
    "\n",
    "    # df = df.explode(list('ABCD'))\n",
    "\n",
    "    # df = df.rename(columns={\"A\": \"card_id\", \"B\": \"channel_id\", \"C\": \"charge\", \"D\": \"time\"})\n",
    "\n",
    "    flat_event_ids   = []\n",
    "    flat_card_ids    = []\n",
    "    flat_channel_ids = []\n",
    "    flat_charges     = []\n",
    "    flat_times       = []\n",
    "\n",
    "    for ievt in good_events:\n",
    "        hits_in_evt = len(card_id[ievt])\n",
    "        flat_event_ids.extend([ievt] * hits_in_evt)\n",
    "        flat_card_ids.extend(card_id[ievt])\n",
    "        flat_channel_ids.extend(channel_id[ievt])\n",
    "        flat_charges.extend(charge[ievt])\n",
    "        flat_times.extend(time[ievt])\n",
    "\n",
    "    df = pd.DataFrame({\n",
    "    \"event_id\":   flat_event_ids,\n",
    "    \"card_id\":    flat_card_ids,\n",
    "    \"channel_id\": flat_channel_ids,\n",
    "    \"charge\":     flat_charges,\n",
    "    \"time\":       flat_times\n",
    "    })\n",
    "\n",
    "    # Paso 1: Filtra por card 130 y canales 7 y 8\n",
    "    filtered = df[(df[\"card_id\"] == 130) & (df[\"channel_id\"].isin([5, 6]))]\n",
    "\n",
    "    # Paso 2: Cuenta cuántos hits hay por evento y canal\n",
    "    counts = (\n",
    "        filtered.groupby([\"event_id\", \"channel_id\"])\n",
    "        .size()\n",
    "        .unstack(fill_value=0)  # Esto crea columnas 7 y 8\n",
    "    )\n",
    "\n",
    "    # Paso 3: Quédate solo con eventos donde los hits en 7 y 8 son iguales\n",
    "    valid_events = counts[counts.get(5, 0) == counts.get(6, 0)].index\n",
    "\n",
    "    # Paso 4: Filtra el dataframe original\n",
    "    result = filtered[filtered[\"event_id\"].isin(valid_events)]\n",
    "\n",
    "    charges_by_channel = result.groupby(\"channel_id\")[\"charge\"].apply(list)\n",
    "\n",
    "    ACT3L_charge.append(charges_by_channel.get(5, []))\n",
    "    ACT3R_charge.append(charges_by_channel.get(6, []))\n"
   ]
  },
  {
   "cell_type": "code",
   "execution_count": null,
   "id": "eb58f0f4",
   "metadata": {},
   "outputs": [],
   "source": [
    "ACT3L_charge = ak.flatten(ACT3L_charge)\n",
    "ACT3R_charge = ak.flatten(ACT3R_charge)\n",
    "ACT3L_charge = np.asarray(ACT3L_charge)\n",
    "ACT3R_charge = np.asarray(ACT3R_charge)\n",
    "print(len(ACT3L_charge))\n",
    "print(len(ACT3R_charge))"
   ]
  },
  {
   "cell_type": "code",
   "execution_count": 101,
   "id": "9547a1cd",
   "metadata": {},
   "outputs": [
    {
     "data": {
      "image/png": "[encoded data removed]",
      "text/plain": [
       "<Figure size 640x480 with 2 Axes>"
      ]
     },
     "metadata": {},
     "output_type": "display_data"
    }
   ],
   "source": [
    "h = plt.hist2d(ACT3L_charge, ACT3R_charge, bins=(60, 60), norm=\"log\", range=((-200, 7500), (0, 8000)));\n",
    "plt.colorbar(h[3]);"
   ]
  },
  {
   "cell_type": "code",
   "execution_count": 84,
   "id": "6bc474d3",
   "metadata": {},
   "outputs": [],
   "source": [
    "def select_charges_for_beam_monitor(good_events, files, card, channel):\n",
    "    # Convertir todo a numpy arrays planos (asumiendo que los datos caben en memoria)\n",
    "    cards     = ak.to_numpy(ak.flatten(files[0][good_events]))\n",
    "    channels  = ak.to_numpy(ak.flatten(files[1][good_events]))\n",
    "    charges   = ak.to_numpy(ak.flatten(files[2][good_events]))\n",
    "    event_ids = np.repeat(good_events, ak.num(files[0][good_events]).to_numpy())\n",
    "\n",
    "    # Máscaras\n",
    "    mask = (cards == card) & ((channels == channel[0]) | (channels == channel[1]))\n",
    "    event_ids = event_ids[mask]\n",
    "    channels  = channels[mask]\n",
    "    charges   = charges[mask]\n",
    "\n",
    "    # Contar hits por evento y canal\n",
    "    unique_events, event_indices = np.unique(event_ids, return_inverse=True)\n",
    "    left_counts  = np.bincount(event_indices, weights=(channels == channel[0]))\n",
    "    right_counts = np.bincount(event_indices, weights=(channels == channel[1]))\n",
    "\n",
    "    # Filtrar eventos válidos\n",
    "    valid_events = unique_events[left_counts == right_counts]\n",
    "    valid_mask   = np.isin(event_ids, valid_events)\n",
    "\n",
    "    # Separar cargas\n",
    "    left_charges  = charges[valid_mask & (channels == channel[0])]\n",
    "    right_charges = charges[valid_mask & (channels == channel[1])]\n",
    "\n",
    "    return left_charges, right_charges"
   ]
  },
  {
   "cell_type": "code",
   "execution_count": 86,
   "id": "d5af902f",
   "metadata": {},
   "outputs": [
    {
     "data": {
      "application/vnd.jupyter.widget-view+json": {
       "model_id": "df3362198b65472bad7a0a160b9a135e",
       "version_major": 2,
       "version_minor": 0
      },
      "text/plain": [
       "  0%|          | 0/265 [00:00<?, ?it/s]"
      ]
     },
     "metadata": {},
     "output_type": "display_data"
    }
   ],
   "source": [
    "# ACT0\n",
    "ACT0L_charges = []\n",
    "ACT0R_charges = []\n",
    "# ACT1\n",
    "ACT1L_charges = []\n",
    "ACT1R_charges = []\n",
    "# ACT2\n",
    "ACT2L_charges = []\n",
    "ACT2R_charges = []\n",
    "# ACT3\n",
    "ACT3L_charges = []\n",
    "ACT3R_charges = []\n",
    "# ACT4\n",
    "ACT4L_charges = []\n",
    "ACT4R_charges = []\n",
    "\n",
    "for part in tqdm(good_parts, total=len(good_parts)):\n",
    "    good_events = selectec_good_events(part)\n",
    "\n",
    "    files = get_files_from_part(part)\n",
    "\n",
    "    # ACT0 and ACT1 and ACT2\n",
    "    # ACT0\n",
    "    file_hit_charges_ACT0L, file_hit_charges_ACT0R = select_charges_for_beam_monitor(good_events, files, 130, [0,1])\n",
    "    ACT0L_charges.append(file_hit_charges_ACT0L)\n",
    "    ACT0R_charges.append(file_hit_charges_ACT0R)\n",
    "    # ACT1\n",
    "    file_hit_charges_ACT1L, file_hit_charges_ACT1R = select_charges_for_beam_monitor(good_events, files, 130, [2,3])\n",
    "    ACT1L_charges.append(file_hit_charges_ACT1L)\n",
    "    ACT1R_charges.append(file_hit_charges_ACT1R)\n",
    "    # ACT2\n",
    "    file_hit_charges_ACT2L, file_hit_charges_ACT2R = select_charges_for_beam_monitor(good_events, files, 130, [5,6])\n",
    "    ACT2L_charges.append(file_hit_charges_ACT2L)\n",
    "    ACT2R_charges.append(file_hit_charges_ACT2R)\n",
    "    # ACT3\n",
    "    file_hit_charges_ACT3L, file_hit_charges_ACT3R = select_charges_for_beam_monitor(good_events, files, 130, [7,8])\n",
    "    ACT3L_charges.append(file_hit_charges_ACT3L)\n",
    "    ACT3R_charges.append(file_hit_charges_ACT3R)\n",
    "    # ACT4\n",
    "    file_hit_charges_ACT4L, file_hit_charges_ACT4R = select_charges_for_beam_monitor(good_events, files, 130, [9,10])\n",
    "    ACT4L_charges.append(file_hit_charges_ACT4L)\n",
    "    ACT4R_charges.append(file_hit_charges_ACT4R)\n",
    " "
   ]
  },
  {
   "cell_type": "code",
   "execution_count": null,
   "id": "4f969f7a",
   "metadata": {},
   "outputs": [
    {
     "name": "stdout",
     "output_type": "stream",
     "text": [
      "38140\n",
      "38140\n"
     ]
    }
   ],
   "source": [
    "# ACT0\n",
    "ACT0L_charges = ak.flatten(ACT0L_charges)\n",
    "ACT0R_charges = ak.flatten(ACT0R_charges)\n",
    "ACT0L_charges = np.asarray(ACT0L_charges)\n",
    "ACT0R_charges = np.asarray(ACT0R_charges)\n",
    "print(len(ACT0L_charges))\n",
    "print(len(ACT0R_charges))\n",
    "# ACT1\n",
    "ACT1L_charges = ak.flatten(ACT1L_charges)\n",
    "ACT1R_charges = ak.flatten(ACT1R_charges)\n",
    "ACT1L_charges = np.asarray(ACT1L_charges)\n",
    "ACT1R_charges = np.asarray(ACT1R_charges)\n",
    "print(len(ACT1L_charges))\n",
    "print(len(ACT1R_charges))\n",
    "# ACT2\n",
    "ACT2L_charges = ak.flatten(ACT2L_charges)\n",
    "ACT2R_charges = ak.flatten(ACT2R_charges)\n",
    "ACT2L_charges = np.asarray(ACT2L_charges)\n",
    "ACT2R_charges = np.asarray(ACT2R_charges)\n",
    "print(len(ACT2L_charges))\n",
    "print(len(ACT2R_charges))\n",
    "# ACT3\n",
    "ACT3L_charges = ak.flatten(ACT3L_charges)\n",
    "ACT3R_charges = ak.flatten(ACT3R_charges)\n",
    "ACT3L_charges = np.asarray(ACT3L_charges)\n",
    "ACT3R_charges = np.asarray(ACT3R_charges)\n",
    "print(len(ACT3L_charges))\n",
    "print(len(ACT3R_charges))\n",
    "# ACT4\n",
    "ACT4L_charges = ak.flatten(ACT4L_charges)\n",
    "ACT4R_charges = ak.flatten(ACT4R_charges)\n",
    "ACT4L_charges = np.asarray(ACT4L_charges)\n",
    "ACT4R_charges = np.asarray(ACT4R_charges)\n",
    "print(len(ACT4L_charges))\n",
    "print(len(ACT4R_charges))"
   ]
  },
  {
   "cell_type": "code",
   "execution_count": 92,
   "id": "60000b67",
   "metadata": {},
   "outputs": [],
   "source": [
    "ACTL_group1 = [i+j+k for (i,j,k) in zip(ACT0L_charges, ACT1L_charges, ACT2L_charges)]\n",
    "ACTR_group1 = [i+j+k for (i,j,k) in zip(ACT0R_charges, ACT1R_charges, ACT2R_charges)]\n",
    "\n",
    "ACTL_group2 = [i+j for (i,j) in zip(ACT3L_charges, ACT4L_charges)]\n",
    "ACTR_group2 = [i+j for (i,j) in zip(ACT3R_charges, ACT4R_charges)]"
   ]
  },
  {
   "cell_type": "code",
   "execution_count": 94,
   "id": "a0337754",
   "metadata": {},
   "outputs": [
    {
     "data": {
      "image/png": "[encoded data removed]",
      "text/plain": [
       "<Figure size 1000x700 with 2 Axes>"
      ]
     },
     "metadata": {},
     "output_type": "display_data"
    }
   ],
   "source": [
    "fig = plt.figure(figsize=(10,7))\n",
    "h = plt.hist2d(ACTL_group1, ACTR_group1, bins=(100, 100), norm=\"log\", range=((-200, 11500), (0, 11000)));\n",
    "plt.colorbar(h[3]);\n",
    "plt.ylabel(\"ACT0-2 right\");\n",
    "plt.xlabel(\"ACT0-2 left\");"
   ]
  },
  {
   "cell_type": "code",
   "execution_count": 99,
   "id": "6636c8b7",
   "metadata": {},
   "outputs": [
    {
     "data": {
      "image/png": "[encoded data removed]",
      "text/plain": [
       "<Figure size 1000x700 with 2 Axes>"
      ]
     },
     "metadata": {},
     "output_type": "display_data"
    }
   ],
   "source": [
    "fig = plt.figure(figsize=(10,7))\n",
    "h = plt.hist2d(ACTL_group2, ACTR_group2, bins=(100, 100), norm=\"log\", range=((-200, 14500), (0, 18000)));\n",
    "plt.colorbar(h[3]);\n",
    "plt.ylabel(\"ACT3-5 right\");\n",
    "plt.xlabel(\"ACT3-5 left\");"
   ]
  },
  {
   "cell_type": "code",
   "execution_count": 8,
   "id": "3b08315b",
   "metadata": {},
   "outputs": [],
   "source": [
    "good_parts = select_good_parts(part_files)"
   ]
  },
  {
   "cell_type": "code",
   "execution_count": null,
   "id": "7c05fdfb",
   "metadata": {},
   "outputs": [],
   "source": [
    "act0l_charges = []\n",
    "act0r_charges = []\n",
    "\n",
    "def act_charge(part):\n",
    "    card = 130\n",
    "    left_channel = 7\n",
    "    right_channel = 8\n",
    "\n",
    "    files = get_files_from_part(part)\n",
    "\n",
    "    file_hit_card_ids    = files[0]\n",
    "    file_hit_channel_ids = files[1]\n",
    "    file_hit_charges     = files[2]\n",
    "\n",
    "    for event in range(len(file_hit_card_ids)):\n",
    "        # print(f\"event {event}\")\n",
    "        event_hit_card_ids     = file_hit_card_ids[event]\n",
    "        event_hit_channel_ids  = file_hit_channel_ids[event]\n",
    "        event_hit_charges      = file_hit_charges[event]\n",
    "\n",
    "        # Máscara para hits de la tarjeta deseada\n",
    "        card_mask = (event_hit_card_ids == card)\n",
    "\n",
    "        # Máscaras combinadas para canal izquierdo y derecho\n",
    "        left_mask  = card_mask & (event_hit_channel_ids == left_channel)\n",
    "        right_mask = card_mask & (event_hit_channel_ids == right_channel)\n",
    "\n",
    "        act0l_charges.append(np.sum(event_hit_charges[left_mask]))\n",
    "        act0r_charges.append(np.sum(event_hit_charges[right_mask]))\n",
    "\n",
    "        # act0l_charges.append(np.sum(event_hit_charges[left_mask]))\n",
    "        # act0r_charges.append(np.sum(event_hit_charges[right_mask]))\n"
   ]
  },
  {
   "cell_type": "code",
   "execution_count": 34,
   "id": "4e819c34",
   "metadata": {},
   "outputs": [
    {
     "data": {
      "image/png": "[encoded data removed]",
      "text/plain": [
       "<Figure size 640x480 with 1 Axes>"
      ]
     },
     "metadata": {},
     "output_type": "display_data"
    }
   ],
   "source": [
    "plt.hist(act0l_charges, bins=100, alpha=0.4, range=(10, 15000));\n",
    "plt.hist(act0r_charges, bins=100, alpha=0.4, range=(10, 15000));\n",
    "# plt.yscale(\"log\");"
   ]
  },
  {
   "cell_type": "code",
   "execution_count": 31,
   "id": "b0aeabf2",
   "metadata": {},
   "outputs": [
    {
     "data": {
      "image/png": "[encoded data removed]",
      "text/plain": [
       "<Figure size 640x480 with 1 Axes>"
      ]
     },
     "metadata": {},
     "output_type": "display_data"
    }
   ],
   "source": [
    "plt.hist2d(act0l_charges, act0r_charges, bins=(30,30), range=((0,15000), (0, 15000)), norm=\"log\");"
   ]
  },
  {
   "cell_type": "code",
   "execution_count": 37,
   "id": "c26257bf",
   "metadata": {},
   "outputs": [
    {
     "data": {
      "application/vnd.jupyter.widget-view+json": {
       "model_id": "71923223708b4368a1c63dd1da865ee8",
       "version_major": 2,
       "version_minor": 0
      },
      "text/plain": [
       "  0%|          | 0/265 [00:00<?, ?it/s]"
      ]
     },
     "metadata": {},
     "output_type": "display_data"
    },
    {
     "ename": "KeyboardInterrupt",
     "evalue": "",
     "output_type": "error",
     "traceback": [
      "\u001b[0;31m---------------------------------------------------------------------------\u001b[0m",
      "\u001b[0;31mKeyboardInterrupt\u001b[0m                         Traceback (most recent call last)",
      "Cell \u001b[0;32mIn [37], line 6\u001b[0m\n\u001b[1;32m      3\u001b[0m left_channel \u001b[38;5;241m=\u001b[39m \u001b[38;5;241m7\u001b[39m\n\u001b[1;32m      4\u001b[0m right_channel \u001b[38;5;241m=\u001b[39m \u001b[38;5;241m8\u001b[39m\n\u001b[0;32m----> 6\u001b[0m files \u001b[38;5;241m=\u001b[39m \u001b[43mget_files_from_part\u001b[49m\u001b[43m(\u001b[49m\u001b[43mpart\u001b[49m\u001b[43m)\u001b[49m\n\u001b[1;32m      8\u001b[0m file_hit_card_ids    \u001b[38;5;241m=\u001b[39m files[\u001b[38;5;241m0\u001b[39m]\n\u001b[1;32m      9\u001b[0m file_hit_channel_ids \u001b[38;5;241m=\u001b[39m files[\u001b[38;5;241m1\u001b[39m]\n",
      "Cell \u001b[0;32mIn [36], line 6\u001b[0m, in \u001b[0;36mget_files_from_part\u001b[0;34m(part_file)\u001b[0m\n\u001b[1;32m      4\u001b[0m file_hit_channel_ids \u001b[38;5;241m=\u001b[39m tree[\u001b[38;5;124m\"\u001b[39m\u001b[38;5;124mhit_pmt_channel_ids\u001b[39m\u001b[38;5;124m\"\u001b[39m]\u001b[38;5;241m.\u001b[39marray()\n\u001b[1;32m      5\u001b[0m file_hit_charges     \u001b[38;5;241m=\u001b[39m tree[\u001b[38;5;124m\"\u001b[39m\u001b[38;5;124mhit_pmt_charges\u001b[39m\u001b[38;5;124m\"\u001b[39m]\u001b[38;5;241m.\u001b[39marray()\n\u001b[0;32m----> 6\u001b[0m file_hit_times       \u001b[38;5;241m=\u001b[39m \u001b[43mtree\u001b[49m\u001b[43m[\u001b[49m\u001b[38;5;124;43m\"\u001b[39;49m\u001b[38;5;124;43mhit_pmt_times\u001b[39;49m\u001b[38;5;124;43m\"\u001b[39;49m\u001b[43m]\u001b[49m\u001b[38;5;241;43m.\u001b[39;49m\u001b[43marray\u001b[49m\u001b[43m(\u001b[49m\u001b[43m)\u001b[49m\n\u001b[1;32m      8\u001b[0m \u001b[38;5;28;01mreturn\u001b[39;00m file_hit_card_ids, file_hit_channel_ids, file_hit_charges, file_hit_times\n",
      "File \u001b[0;32m~/.local/lib/python3.9/site-packages/uproot/behaviors/TBranch.py:1838\u001b[0m, in \u001b[0;36mTBranch.array\u001b[0;34m(self, interpretation, entry_start, entry_stop, decompression_executor, interpretation_executor, array_cache, library, ak_add_doc)\u001b[0m\n\u001b[1;32m   1835\u001b[0m                 ranges_or_baskets\u001b[38;5;241m.\u001b[39mappend((branch, basket_num, range_or_basket))\n\u001b[1;32m   1837\u001b[0m interp_options \u001b[38;5;241m=\u001b[39m {\u001b[38;5;124m\"\u001b[39m\u001b[38;5;124mak_add_doc\u001b[39m\u001b[38;5;124m\"\u001b[39m: ak_add_doc}\n\u001b[0;32m-> 1838\u001b[0m \u001b[43m_ranges_or_baskets_to_arrays\u001b[49m\u001b[43m(\u001b[49m\n\u001b[1;32m   1839\u001b[0m \u001b[43m    \u001b[49m\u001b[38;5;28;43mself\u001b[39;49m\u001b[43m,\u001b[49m\n\u001b[1;32m   1840\u001b[0m \u001b[43m    \u001b[49m\u001b[43mranges_or_baskets\u001b[49m\u001b[43m,\u001b[49m\n\u001b[1;32m   1841\u001b[0m \u001b[43m    \u001b[49m\u001b[43mbranchid_interpretation\u001b[49m\u001b[43m,\u001b[49m\n\u001b[1;32m   1842\u001b[0m \u001b[43m    \u001b[49m\u001b[43mentry_start\u001b[49m\u001b[43m,\u001b[49m\n\u001b[1;32m   1843\u001b[0m \u001b[43m    \u001b[49m\u001b[43mentry_stop\u001b[49m\u001b[43m,\u001b[49m\n\u001b[1;32m   1844\u001b[0m \u001b[43m    \u001b[49m\u001b[43mdecompression_executor\u001b[49m\u001b[43m,\u001b[49m\n\u001b[1;32m   1845\u001b[0m \u001b[43m    \u001b[49m\u001b[43minterpretation_executor\u001b[49m\u001b[43m,\u001b[49m\n\u001b[1;32m   1846\u001b[0m \u001b[43m    \u001b[49m\u001b[43mlibrary\u001b[49m\u001b[43m,\u001b[49m\n\u001b[1;32m   1847\u001b[0m \u001b[43m    \u001b[49m\u001b[43marrays\u001b[49m\u001b[43m,\u001b[49m\n\u001b[1;32m   1848\u001b[0m \u001b[43m    \u001b[49m\u001b[38;5;28;43;01mFalse\u001b[39;49;00m\u001b[43m,\u001b[49m\n\u001b[1;32m   1849\u001b[0m \u001b[43m    \u001b[49m\u001b[43minterp_options\u001b[49m\u001b[43m,\u001b[49m\n\u001b[1;32m   1850\u001b[0m \u001b[43m\u001b[49m\u001b[43m)\u001b[49m\n\u001b[1;32m   1852\u001b[0m _fix_asgrouped(\n\u001b[1;32m   1853\u001b[0m     arrays,\n\u001b[1;32m   1854\u001b[0m     expression_context,\n\u001b[0;32m   (...)\u001b[0m\n\u001b[1;32m   1858\u001b[0m     ak_add_doc,\n\u001b[1;32m   1859\u001b[0m )\n\u001b[1;32m   1861\u001b[0m \u001b[38;5;28;01mif\u001b[39;00m array_cache \u001b[38;5;129;01mis\u001b[39;00m \u001b[38;5;129;01mnot\u001b[39;00m \u001b[38;5;28;01mNone\u001b[39;00m:\n",
      "File \u001b[0;32m~/.local/lib/python3.9/site-packages/uproot/behaviors/TBranch.py:3120\u001b[0m, in \u001b[0;36m_ranges_or_baskets_to_arrays\u001b[0;34m(hasbranches, ranges_or_baskets, branchid_interpretation, entry_start, entry_stop, decompression_executor, interpretation_executor, library, arrays, update_ranges_or_baskets, interp_options)\u001b[0m\n\u001b[1;32m   3117\u001b[0m         notifications\u001b[38;5;241m.\u001b[39mput(\u001b[38;5;28;01mNone\u001b[39;00m)\n\u001b[1;32m   3119\u001b[0m \u001b[38;5;28;01mwhile\u001b[39;00m \u001b[38;5;28mlen\u001b[39m(arrays) \u001b[38;5;241m<\u001b[39m \u001b[38;5;28mlen\u001b[39m(branchid_interpretation):\n\u001b[0;32m-> 3120\u001b[0m     obj \u001b[38;5;241m=\u001b[39m \u001b[43mnotifications\u001b[49m\u001b[38;5;241;43m.\u001b[39;49m\u001b[43mget\u001b[49m\u001b[43m(\u001b[49m\u001b[43m)\u001b[49m\n\u001b[1;32m   3122\u001b[0m     \u001b[38;5;28;01mif\u001b[39;00m \u001b[38;5;28misinstance\u001b[39m(obj, uproot\u001b[38;5;241m.\u001b[39msource\u001b[38;5;241m.\u001b[39mchunk\u001b[38;5;241m.\u001b[39mChunk):\n\u001b[1;32m   3123\u001b[0m         args \u001b[38;5;241m=\u001b[39m range_args[(obj\u001b[38;5;241m.\u001b[39mstart, obj\u001b[38;5;241m.\u001b[39mstop)]\n",
      "File \u001b[0;32m/usr/lib64/python3.9/queue.py:171\u001b[0m, in \u001b[0;36mQueue.get\u001b[0;34m(self, block, timeout)\u001b[0m\n\u001b[1;32m    169\u001b[0m \u001b[38;5;28;01melif\u001b[39;00m timeout \u001b[38;5;129;01mis\u001b[39;00m \u001b[38;5;28;01mNone\u001b[39;00m:\n\u001b[1;32m    170\u001b[0m     \u001b[38;5;28;01mwhile\u001b[39;00m \u001b[38;5;129;01mnot\u001b[39;00m \u001b[38;5;28mself\u001b[39m\u001b[38;5;241m.\u001b[39m_qsize():\n\u001b[0;32m--> 171\u001b[0m         \u001b[38;5;28;43mself\u001b[39;49m\u001b[38;5;241;43m.\u001b[39;49m\u001b[43mnot_empty\u001b[49m\u001b[38;5;241;43m.\u001b[39;49m\u001b[43mwait\u001b[49m\u001b[43m(\u001b[49m\u001b[43m)\u001b[49m\n\u001b[1;32m    172\u001b[0m \u001b[38;5;28;01melif\u001b[39;00m timeout \u001b[38;5;241m<\u001b[39m \u001b[38;5;241m0\u001b[39m:\n\u001b[1;32m    173\u001b[0m     \u001b[38;5;28;01mraise\u001b[39;00m \u001b[38;5;167;01mValueError\u001b[39;00m(\u001b[38;5;124m\"\u001b[39m\u001b[38;5;124m'\u001b[39m\u001b[38;5;124mtimeout\u001b[39m\u001b[38;5;124m'\u001b[39m\u001b[38;5;124m must be a non-negative number\u001b[39m\u001b[38;5;124m\"\u001b[39m)\n",
      "File \u001b[0;32m/usr/lib64/python3.9/threading.py:312\u001b[0m, in \u001b[0;36mCondition.wait\u001b[0;34m(self, timeout)\u001b[0m\n\u001b[1;32m    310\u001b[0m \u001b[38;5;28;01mtry\u001b[39;00m:    \u001b[38;5;66;03m# restore state no matter what (e.g., KeyboardInterrupt)\u001b[39;00m\n\u001b[1;32m    311\u001b[0m     \u001b[38;5;28;01mif\u001b[39;00m timeout \u001b[38;5;129;01mis\u001b[39;00m \u001b[38;5;28;01mNone\u001b[39;00m:\n\u001b[0;32m--> 312\u001b[0m         \u001b[43mwaiter\u001b[49m\u001b[38;5;241;43m.\u001b[39;49m\u001b[43macquire\u001b[49m\u001b[43m(\u001b[49m\u001b[43m)\u001b[49m\n\u001b[1;32m    313\u001b[0m         gotit \u001b[38;5;241m=\u001b[39m \u001b[38;5;28;01mTrue\u001b[39;00m\n\u001b[1;32m    314\u001b[0m     \u001b[38;5;28;01melse\u001b[39;00m:\n",
      "\u001b[0;31mKeyboardInterrupt\u001b[0m: "
     ]
    }
   ],
   "source": [
    "for part in tqdm(good_parts, total=len(good_parts)):\n",
    "    card = 130\n",
    "    left_channel = 7\n",
    "    right_channel = 8\n",
    "\n",
    "    files = get_files_from_part(part)\n",
    "\n",
    "    file_hit_card_ids    = files[0]\n",
    "    file_hit_channel_ids = files[1]\n",
    "    file_hit_charges     = files[2]\n",
    "\n",
    "    for event in range(len(file_hit_card_ids)):\n",
    "        # print(f\"event {event}\")\n",
    "        event_hit_card_ids     = file_hit_card_ids[event]\n",
    "        event_hit_channel_ids  = file_hit_channel_ids[event]\n",
    "        event_hit_charges      = file_hit_charges[event]\n",
    "\n",
    "        # Máscara para hits de la tarjeta deseada\n",
    "        card_mask = (event_hit_card_ids == card)\n",
    "\n",
    "        # Máscaras combinadas para canal izquierdo y derecho\n",
    "        left_mask  = card_mask & (event_hit_channel_ids == left_channel)\n",
    "        right_mask = card_mask & (event_hit_channel_ids == right_channel)\n",
    "\n",
    "        act0l_charges.append(np.sum(event_hit_charges[left_mask]))\n",
    "        act0r_charges.append(np.sum(event_hit_charges[right_mask]))\n",
    "\n",
    "        # act0l_charges.append(np.sum(event_hit_charges[left_mask]))\n",
    "        # act0r_charges.append(np.sum(event_hit_charges[right_mask]))"
   ]
  },
  {
   "cell_type": "code",
   "execution_count": null,
   "id": "b30c4e2e",
   "metadata": {},
   "outputs": [],
   "source": [
    "part = 0\n",
    "files = get_files_from_part(part)"
   ]
  },
  {
   "cell_type": "code",
   "execution_count": 69,
   "id": "f7e09adc",
   "metadata": {},
   "outputs": [],
   "source": [
    "def create_df_from_file(files):\n",
    "    cards    = files[0]\n",
    "    channels = files[1]\n",
    "    charges  = files[2]\n",
    "\n",
    "    nevents = len(cards)\n",
    "    print('nevents ', nevents)\n",
    "    evts    = np.arange(nevents)\n",
    "    nhits   = [len(cards[ievt]) for ievt in evts]\n",
    "    evt_column = np.repeat(evts, nhits)\n",
    "\n",
    "    xcards    = ak.flatten(cards)\n",
    "    xchannels = ak.flatten(channels)\n",
    "    xcharges  = ak.flatten(charges)\n",
    "    df = pd.DataFrame({'evt':evt_column, 'card':xcards, 'channel':xchannels, 'charge':xcharges})\n",
    "    return df\n",
    "\n"
   ]
  },
  {
   "cell_type": "code",
   "execution_count": 70,
   "id": "267f6a4c",
   "metadata": {},
   "outputs": [
    {
     "name": "stdout",
     "output_type": "stream",
     "text": [
      "nevents  850\n"
     ]
    },
    {
     "data": {
      "text/html": [
       "<div>\n",
       "<style scoped>\n",
       "    .dataframe tbody tr th:only-of-type {\n",
       "        vertical-align: middle;\n",
       "    }\n",
       "\n",
       "    .dataframe tbody tr th {\n",
       "        vertical-align: top;\n",
       "    }\n",
       "\n",
       "    .dataframe thead th {\n",
       "        text-align: right;\n",
       "    }\n",
       "</style>\n",
       "<table border=\"1\" class=\"dataframe\">\n",
       "  <thead>\n",
       "    <tr style=\"text-align: right;\">\n",
       "      <th></th>\n",
       "      <th>evt</th>\n",
       "      <th>card</th>\n",
       "      <th>channel</th>\n",
       "      <th>charge</th>\n",
       "    </tr>\n",
       "  </thead>\n",
       "  <tbody>\n",
       "    <tr>\n",
       "      <th>0</th>\n",
       "      <td>0</td>\n",
       "      <td>17</td>\n",
       "      <td>2</td>\n",
       "      <td>118.0</td>\n",
       "    </tr>\n",
       "    <tr>\n",
       "      <th>1</th>\n",
       "      <td>0</td>\n",
       "      <td>23</td>\n",
       "      <td>4</td>\n",
       "      <td>131.0</td>\n",
       "    </tr>\n",
       "    <tr>\n",
       "      <th>2</th>\n",
       "      <td>0</td>\n",
       "      <td>23</td>\n",
       "      <td>8</td>\n",
       "      <td>191.0</td>\n",
       "    </tr>\n",
       "    <tr>\n",
       "      <th>3</th>\n",
       "      <td>0</td>\n",
       "      <td>23</td>\n",
       "      <td>9</td>\n",
       "      <td>204.0</td>\n",
       "    </tr>\n",
       "    <tr>\n",
       "      <th>4</th>\n",
       "      <td>0</td>\n",
       "      <td>23</td>\n",
       "      <td>15</td>\n",
       "      <td>236.0</td>\n",
       "    </tr>\n",
       "  </tbody>\n",
       "</table>\n",
       "</div>"
      ],
      "text/plain": [
       "   evt  card  channel  charge\n",
       "0    0    17        2   118.0\n",
       "1    0    23        4   131.0\n",
       "2    0    23        8   191.0\n",
       "3    0    23        9   204.0\n",
       "4    0    23       15   236.0"
      ]
     },
     "execution_count": 70,
     "metadata": {},
     "output_type": "execute_result"
    }
   ],
   "source": [
    "df_part0 = create_df_from_file(files)\n",
    "df_part0.head()"
   ]
  },
  {
   "cell_type": "code",
   "execution_count": 60,
   "id": "ef61fa64",
   "metadata": {},
   "outputs": [
    {
     "data": {
      "application/vnd.jupyter.widget-view+json": {
       "model_id": "2f8add32b19b4a6397390d3fdd0e9029",
       "version_major": 2,
       "version_minor": 0
      },
      "text/plain": [
       "  0%|          | 0/10 [00:00<?, ?it/s]"
      ]
     },
     "metadata": {},
     "output_type": "display_data"
    },
    {
     "name": "stdout",
     "output_type": "stream",
     "text": [
      "nevents  530\n",
      "nevents  850\n",
      "nevents  794\n",
      "nevents  830\n",
      "nevents  835\n",
      "nevents  782\n",
      "nevents  797\n",
      "nevents  1074\n",
      "nevents  818\n",
      "nevents  549\n"
     ]
    }
   ],
   "source": [
    "dfs = [create_df_from_file(get_files_from_part(ipar)) for ipar in tqdm(good_parts[:10], total=len(good_parts[:10]))]"
   ]
  },
  {
   "cell_type": "code",
   "execution_count": 61,
   "id": "ddce8f3e",
   "metadata": {},
   "outputs": [],
   "source": [
    "df_concat = pd.concat(dfs)"
   ]
  },
  {
   "cell_type": "code",
   "execution_count": 67,
   "id": "fac1397e",
   "metadata": {},
   "outputs": [
    {
     "data": {
      "text/plain": [
       "1380"
      ]
     },
     "execution_count": 67,
     "metadata": {},
     "output_type": "execute_result"
    }
   ],
   "source": [
    "530+850"
   ]
  },
  {
   "cell_type": "code",
   "execution_count": 66,
   "id": "e01f9d31",
   "metadata": {},
   "outputs": [
    {
     "data": {
      "text/plain": [
       "array([   0,    1,    2, ..., 1071, 1072, 1073])"
      ]
     },
     "execution_count": 66,
     "metadata": {},
     "output_type": "execute_result"
    }
   ],
   "source": [
    "df_concat[\"evt\"].unique()"
   ]
  },
  {
   "cell_type": "code",
   "execution_count": 32,
   "id": "b6a77255",
   "metadata": {},
   "outputs": [],
   "source": [
    "_id_names = {(130, 0): \"ACT0-L\", (130, 1): \"ACT0-R\", (130, 2): \"ACT1-L\", (130, 3): \"ACT1-R\", (130, 4): \"NC\", (130, 5): \"ACT2-L\",\n",
    "             (130, 6): \"ACT2-R\", (130, 7): \"ACT3-L\", (130, 8): \"ACT3-R\", (130, 9): \"ACT4-L\", (130, 10): \"ACT4-R\", (130, 11): \"ACT5-L\",\n",
    "             (130, 12): \"ACT5-R\", (130, 13): \"T1-0L\", (130, 14): \"T1-0R\", (130, 15): \"T1-1L\", (130, 16): \"T1-1R\", (130, 17): \"HC-0\",\n",
    "             (130, 18): \"HC-1\", (130, 19): \"Trigger\",\n",
    "             (131, 0): \"Trigger\", (131, 1): \"Lemo-1\", (131, 2): \"Lemo-2\", (131, 3): \"Lemo-3\", (131, 4): \"Lemo-4\", (131, 5): \"Lemo-5\",\n",
    "             (131, 6): \"NC\", (131, 7): \"Lemo-6\", (131, 8): \"NC\", (131, 9): \"Laser\", (131, 10): \"T2\", (131, 11): \"T3\",\n",
    "             (131, 12): \"T0-0L\", (131, 13): \"T0-1R\", (131, 14): \"T0-1L\", (131, 15): \"T0-1R\", (131, 16): \"NC\", (131, 17): \"PbG\",\n",
    "             (131, 18): \"MuL\", (131, 19): \"MuR\",\n",
    "             (132, 0): \"TOF-0\", (132, 1): \"TOF-1\", (132, 2): \"TOF-2\", (132, 3): \"TOF-3\", (132, 4): \"TOF-4\", (132, 5): \"TOF-5\",\n",
    "             (132, 6): \"TOF-6\", (132, 7): \"TOF-7\", (132, 8): \"TOF-8\", (132, 9): \"NC\", (132, 10): \"TOF-9\", (132, 11): \"TOF-A\",\n",
    "             (132, 12): \"TOF-B\", (132, 13): \"TOF-C\", (132, 14): \"TOF-D\", (132, 15): \"TOF-E\", (132, 16): \"TOF-F\", (132, 17): \"T4-L\",\n",
    "             (132, 18): \"T4-R\", (132, 19): \"Trigger\"}"
   ]
  },
  {
   "cell_type": "code",
   "execution_count": 37,
   "id": "b6485e08",
   "metadata": {},
   "outputs": [],
   "source": [
    "def df_event_summary(df, ids):\n",
    "    \"\"\" returns a DataFrame with one entry per event and the number of hits and total charge\n",
    "    for the ids (each id is a pair (card ID, channel ID))\n",
    "    inputs:\n",
    "        df   : DataFrame with columns ‘event’, ‘card’, ‘channel’, ‘charge’ (to be extended to time)\n",
    "        ids  : list of pairs (card, channel) i.e [(0, 0), (0, 1)]\n",
    "    returns:\n",
    "        DataFrame with columnes ‘event’ ‘name_of_card_channel_nhits’, ‘name_of_card_channel_charge’\n",
    "    \"\"\"\n",
    "    nevts = np.max(df.evt) + 1\n",
    "    xdf   = {\"evt\" : np.arange(nevts)}\n",
    "\n",
    "    for  id in ids:\n",
    "        card, channel = id\n",
    "        sel   = (df.card == card) & (df.channel == channel)\n",
    "        ievts = df[sel].evt.unique()\n",
    "\n",
    "        _groups =  df[sel].groupby(\"evt\")\n",
    "        \n",
    "        nhits         = _groups.count()[\"channel\"]\n",
    "        xhits         = np.zeros(nevts, int)\n",
    "        xhits[ievts]  = nhits\n",
    "        qtots         = _groups.sum()[\"charge\"]\n",
    "        xqtots        = np.zeros(nevts, float)\n",
    "        xqtots[ievts] = qtots\n",
    "\n",
    "        name = _id_names[(card, channel)]\n",
    "        xdf[name+\"_nhits\"]  = xhits\n",
    "        xdf[name+\"_charge\"] = xqtots\n",
    "    \n",
    "    return pd.DataFrame(xdf)"
   ]
  },
  {
   "cell_type": "code",
   "execution_count": 44,
   "id": "660d45a1",
   "metadata": {},
   "outputs": [
    {
     "data": {
      "text/html": [
       "<div>\n",
       "<style scoped>\n",
       "    .dataframe tbody tr th:only-of-type {\n",
       "        vertical-align: middle;\n",
       "    }\n",
       "\n",
       "    .dataframe tbody tr th {\n",
       "        vertical-align: top;\n",
       "    }\n",
       "\n",
       "    .dataframe thead th {\n",
       "        text-align: right;\n",
       "    }\n",
       "</style>\n",
       "<table border=\"1\" class=\"dataframe\">\n",
       "  <thead>\n",
       "    <tr style=\"text-align: right;\">\n",
       "      <th></th>\n",
       "      <th>evt</th>\n",
       "      <th>ACT0-L_nhits</th>\n",
       "      <th>ACT0-L_charge</th>\n",
       "      <th>ACT0-R_nhits</th>\n",
       "      <th>ACT0-R_charge</th>\n",
       "    </tr>\n",
       "  </thead>\n",
       "  <tbody>\n",
       "    <tr>\n",
       "      <th>0</th>\n",
       "      <td>0</td>\n",
       "      <td>1</td>\n",
       "      <td>712.0</td>\n",
       "      <td>1</td>\n",
       "      <td>235.0</td>\n",
       "    </tr>\n",
       "    <tr>\n",
       "      <th>1</th>\n",
       "      <td>1</td>\n",
       "      <td>1</td>\n",
       "      <td>624.0</td>\n",
       "      <td>0</td>\n",
       "      <td>0.0</td>\n",
       "    </tr>\n",
       "    <tr>\n",
       "      <th>2</th>\n",
       "      <td>2</td>\n",
       "      <td>1</td>\n",
       "      <td>1309.0</td>\n",
       "      <td>1</td>\n",
       "      <td>295.0</td>\n",
       "    </tr>\n",
       "    <tr>\n",
       "      <th>3</th>\n",
       "      <td>3</td>\n",
       "      <td>1</td>\n",
       "      <td>3253.0</td>\n",
       "      <td>0</td>\n",
       "      <td>0.0</td>\n",
       "    </tr>\n",
       "    <tr>\n",
       "      <th>4</th>\n",
       "      <td>4</td>\n",
       "      <td>0</td>\n",
       "      <td>0.0</td>\n",
       "      <td>1</td>\n",
       "      <td>561.0</td>\n",
       "    </tr>\n",
       "  </tbody>\n",
       "</table>\n",
       "</div>"
      ],
      "text/plain": [
       "   evt  ACT0-L_nhits  ACT0-L_charge  ACT0-R_nhits  ACT0-R_charge\n",
       "0    0             1          712.0             1          235.0\n",
       "1    1             1          624.0             0            0.0\n",
       "2    2             1         1309.0             1          295.0\n",
       "3    3             1         3253.0             0            0.0\n",
       "4    4             0            0.0             1          561.0"
      ]
     },
     "execution_count": 44,
     "metadata": {},
     "output_type": "execute_result"
    }
   ],
   "source": [
    "\n",
    "df_act0 = df_event_summary(df_part0, [(130, 0), (130, 1)])\n",
    "df_act0.head()\n"
   ]
  },
  {
   "cell_type": "code",
   "execution_count": 49,
   "id": "4ff39d42",
   "metadata": {},
   "outputs": [
    {
     "data": {
      "image/png": "[encoded data removed]",
      "text/plain": [
       "<Figure size 640x480 with 1 Axes>"
      ]
     },
     "metadata": {},
     "output_type": "display_data"
    }
   ],
   "source": [
    "plt.hist(df_act0[\"ACT0-L_charge\"], 100, alpha=0.4, range=(1, 1000));\n",
    "plt.hist(df_act0[\"ACT0-R_charge\"], 100, alpha=0.4, range=(1, 1000));\n",
    "# plt.yscale(\"log\");"
   ]
  },
  {
   "cell_type": "code",
   "execution_count": 54,
   "id": "a9f72356",
   "metadata": {},
   "outputs": [
    {
     "data": {
      "image/png": "[encoded data removed]",
      "text/plain": [
       "<Figure size 640x480 with 1 Axes>"
      ]
     },
     "metadata": {},
     "output_type": "display_data"
    }
   ],
   "source": [
    "plt.hist(df_act0[\"ACT0-L_nhits\"], 100, alpha=0.4, range=(1, 10));\n",
    "plt.hist(df_act0[\"ACT0-R_nhits\"], 100, alpha=0.4, range=(1, 10));\n",
    "plt.yscale(\"log\")"
   ]
  },
  {
   "cell_type": "code",
   "execution_count": 50,
   "id": "c036fdbf",
   "metadata": {},
   "outputs": [
    {
     "data": {
      "text/plain": [
       "(530, 530)"
      ]
     },
     "execution_count": 50,
     "metadata": {},
     "output_type": "execute_result"
    }
   ],
   "source": [
    "len(df_act0[\"ACT0-L_charge\"]), len(df_act0[\"ACT0-R_charge\"])"
   ]
  },
  {
   "cell_type": "code",
   "execution_count": 59,
   "id": "cb53d2a1",
   "metadata": {},
   "outputs": [
    {
     "data": {
      "image/png": "[encoded data removed]",
      "text/plain": [
       "<Figure size 640x480 with 1 Axes>"
      ]
     },
     "metadata": {},
     "output_type": "display_data"
    }
   ],
   "source": [
    "plt.hist2d(df_act0[\"ACT0-L_charge\"], df_act0[\"ACT0-R_charge\"], bins=(20,20), range=((0, 4000), (0, 6000)), norm=\"log\");"
   ]
  },
  {
   "cell_type": "code",
   "execution_count": null,
   "id": "2a6aa08d",
   "metadata": {},
   "outputs": [],
   "source": []
  }
 ],
 "metadata": {
  "kernelspec": {
   "display_name": "Python 3",
   "language": "python",
   "name": "python3"
  },
  "language_info": {
   "codemirror_mode": {
    "name": "ipython",
    "version": 3
   },
   "file_extension": ".py",
   "mimetype": "text/x-python",
   "name": "python",
   "nbconvert_exporter": "python",
   "pygments_lexer": "ipython3",
   "version": "3.9.21"
  }
 },
 "nbformat": 4,
 "nbformat_minor": 5
}
