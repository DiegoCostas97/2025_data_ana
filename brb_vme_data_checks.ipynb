{
 "cells": [
  {
   "cell_type": "code",
   "execution_count": 1,
   "id": "5e30d4a4",
   "metadata": {},
   "outputs": [
    {
     "data": {
      "text/html": [
       "<style>.container { width:100% !important; }</style>"
      ],
      "text/plain": [
       "<IPython.core.display.HTML object>"
      ]
     },
     "metadata": {},
     "output_type": "display_data"
    },
    {
     "data": {
      "text/html": [
       "<style>div.output_scroll { height: 44em; }</style>"
      ],
      "text/plain": [
       "<IPython.core.display.HTML object>"
      ]
     },
     "metadata": {},
     "output_type": "display_data"
    }
   ],
   "source": [
    "import collections\n",
    "import matplotlib\n",
    "import uproot\n",
    "import sys\n",
    "import site\n",
    "import glob\n",
    "import re\n",
    "import math\n",
    "sys.path.insert(0, site.getusersitepackages())\n",
    "\n",
    "import numpy             as np\n",
    "import awkward           as ak\n",
    "import matplotlib.pyplot as plt\n",
    "import pandas            as pd\n",
    "\n",
    "# Wider Cells\n",
    "from IPython.display                 import display, HTML, Markdown\n",
    "from tqdm.notebook                   import tqdm\n",
    "from matplotlib.backends.backend_pdf import PdfPages\n",
    "display(HTML(\"<style>.container { width:100% !important; }</style>\"))\n",
    "display(HTML(\"<style>div.output_scroll { height: 44em; }</style>\"))"
   ]
  },
  {
   "cell_type": "code",
   "execution_count": 2,
   "id": "79fd0977",
   "metadata": {},
   "outputs": [],
   "source": [
    "# Función para extraer el número después de \"P\"\n",
    "def extract_p_number(filename):\n",
    "    match = re.search(r\"P(\\d+)\", filename)\n",
    "    if match:\n",
    "        return int(match.group(1))\n",
    "    return -1  # Devuelve un valor pequeño si no se encuentra \"P\""
   ]
  },
  {
   "cell_type": "code",
   "execution_count": 124,
   "id": "d7a1352a",
   "metadata": {},
   "outputs": [
    {
     "data": {
      "text/plain": [
       "324"
      ]
     },
     "execution_count": 124,
     "metadata": {},
     "output_type": "execute_result"
    }
   ],
   "source": [
    "run = 1444\n",
    "run_files = glob.glob(f\"/eos/experiment/wcte/data/2025_commissioning/offline_data/{run}/WCTE_offline_R{run}S*P*.root\")\n",
    "#/eos/experiment/wcte/data/2025_commissioning/\"+str(run)+\"/*.root\n",
    "\n",
    "# Ordenar los archivos usando extract_p_number\n",
    "run_files = sorted(run_files, key=extract_p_number)\n",
    "len(run_files)"
   ]
  },
  {
   "cell_type": "code",
   "execution_count": 6,
   "id": "a95346fc",
   "metadata": {},
   "outputs": [],
   "source": [
    "# def read_all_parts():\n",
    "#     tree = uproot.open(files[0])\n",
    "#     keys = tree.keys()\n",
    "#     print(keys)\n",
    "\n",
    "#     branch = tree[keys[0]]\n",
    "#     primal_event_numbers = [branch['event_number'].array().to_numpy()]\n",
    "#     primal_window_times  = [branch['window_time'].array().to_numpy()]\n",
    "\n",
    "#     for f in tqdm(files[1:]):\n",
    "#         tree2 = uproot.open(f)\n",
    "#         keys2 = tree2.keys()\n",
    "#         for key2 in keys2:\n",
    "#             branch2 = tree2[key2]\n",
    "#             events = branch2['event_number'].array().to_numpy()\n",
    "#             if len(events) != 0:\n",
    "#                 primal_event_numbers.append(branch2['event_number'].array().to_numpy()+primal_event_numbers[-1].max()+1)\n",
    "#                 primal_window_times.append(branch2['window_time'].array().to_numpy()+primal_window_times[-1].max()+1)   "
   ]
  },
  {
   "cell_type": "markdown",
   "id": "ea7d0d0d",
   "metadata": {},
   "source": [
    "# Select The Part File You Want To Use"
   ]
  },
  {
   "cell_type": "markdown",
   "id": "0b40b063",
   "metadata": {},
   "source": [
    "# Select Only Those Events With The Same Number Of Waveforms And Hits"
   ]
  },
  {
   "cell_type": "markdown",
   "id": "c4692693",
   "metadata": {},
   "source": [
    "# For Those Good Events, Select Only Hits In Card 130 and Corresponding Channels And Etc"
   ]
  },
  {
   "cell_type": "code",
   "execution_count": 132,
   "id": "2591914a",
   "metadata": {},
   "outputs": [],
   "source": [
    "def selectec_good_events(part_file):\n",
    "    tree = uproot.open(run_files[part_file]+\":WCTEReadoutWindows\")\n",
    "    nevents = len(tree[\"hit_mpmt_card_ids\"].array())\n",
    "\n",
    "    file_hit_card_ids    = tree[\"hit_mpmt_card_ids\"].array()\n",
    "    file_hit_channel_ids = tree[\"hit_pmt_channel_ids\"].array()\n",
    "    file_hit_charges     = tree[\"hit_pmt_charges\"].array()\n",
    "    file_hit_times       = tree[\"hit_pmt_times\"].array()\n",
    "\n",
    "    file_waveform_card_ids = tree[\"pmt_waveform_mpmt_card_ids\"].array()\n",
    "\n",
    "    good_events = []\n",
    "\n",
    "    for ievt in range(nevents):\n",
    "        numHits = len(file_hit_card_ids[ievt])\n",
    "        numWave = len(file_waveform_card_ids[ievt])\n",
    "        if numHits == numWave:\n",
    "            good_events.append(ievt)\n",
    "        \n",
    "    print(f\"{len(good_events)/nevents*100:.0f}% of the events are good events\")\n",
    "\n",
    "    return good_events, file_hit_card_ids, file_hit_channel_ids, file_hit_charges, file_hit_times, file_waveform_card_ids"
   ]
  },
  {
   "cell_type": "code",
   "execution_count": 133,
   "id": "487c2e5b",
   "metadata": {},
   "outputs": [],
   "source": [
    "def select_charges_for_beam_monitor(good_events, files, card, channels, plot_control=False, variable=\"charge\"):\n",
    "    \n",
    "    file_hit_charges_masked_LChannel = []\n",
    "    file_hit_charges_masked_RChannel = []\n",
    "\n",
    "    for ievt in good_events:\n",
    "        event_hit_card_ids    = files[0][ievt]\n",
    "        event_hit_channel_ids = files[1][ievt]\n",
    "        event_hit_charges     = files[2][ievt]\n",
    "        event_hit_times       = files[3][ievt]\n",
    "\n",
    "        event_waveform_card_ids = files[4][ievt]\n",
    "\n",
    "        try:\n",
    "            len(event_hit_card_ids) == len(event_waveform_card_ids)\n",
    "\n",
    "        except:\n",
    "            raise ValueError(\"This is not a good event, we havae different amount of hits and waveforms!\")\n",
    "\n",
    "        if plot_control:\n",
    "            # Control Plot: Should Be The Exact Same\n",
    "            plt.hist(event_hit_card_ids, bins=50, alpha=0.4);\n",
    "            plt.hist(event_waveform_card_ids, bins=50, alpha=0.4);\n",
    "            plt.title(\"Card IDs From Hits and From Waveforms\");\n",
    "            plt.xlabel(\"Card ID\");\n",
    "\n",
    "        # Create mask to card 130\n",
    "        # Create mask to channels 7&8 which correspond to ACT3L-R\n",
    "        # Combine masks\n",
    "        # Apply masks to event_hit_charges to get the charge in those specific channels for that specific card\n",
    "        mask_card = event_hit_card_ids == card\n",
    "        mask_channel_L = (event_hit_channel_ids == channels[0])\n",
    "        mask_channel_R = (event_hit_channel_ids == channels[1])\n",
    "        combined_mask_L = mask_card & mask_channel_L\n",
    "        combined_mask_R = mask_card & mask_channel_R\n",
    "\n",
    "        if variable == \"charge\":\n",
    "            file_hit_charges_masked_LChannel.append(event_hit_charges[combined_mask_L])\n",
    "            file_hit_charges_masked_RChannel.append(event_hit_charges[combined_mask_R])\n",
    "\n",
    "        elif variable == \"time\":\n",
    "            file_hit_charges_masked_LChannel.append(event_hit_times[combined_mask_L])\n",
    "            file_hit_charges_masked_RChannel.append(event_hit_times[combined_mask_R])\n",
    "\n",
    "    file_hit_charges_masked_LChannel = ak.flatten(file_hit_charges_masked_LChannel)\n",
    "    file_hit_charges_masked_RChannel = ak.flatten(file_hit_charges_masked_RChannel)\n",
    "\n",
    "    return file_hit_charges_masked_LChannel, file_hit_charges_masked_RChannel"
   ]
  },
  {
   "cell_type": "code",
   "execution_count": 134,
   "id": "986dda50",
   "metadata": {},
   "outputs": [
    {
     "name": "stdout",
     "output_type": "stream",
     "text": [
      "39% of the events are good events\n"
     ]
    }
   ],
   "source": [
    "part = 0\n",
    "good_events, *files = selectec_good_events(part)"
   ]
  },
  {
   "cell_type": "code",
   "execution_count": 137,
   "id": "9d381603",
   "metadata": {},
   "outputs": [],
   "source": [
    "# ACT3\n",
    "file_hit_charges_ACT3L, file_hit_charges_ACT3R = select_charges_for_beam_monitor(good_events, files, 130, [7,8], False)\n",
    "file_hit_charges_ACT4L, file_hit_charges_ACT4R = select_charges_for_beam_monitor(good_events, files, 130, [9,10], False)\n",
    "\n",
    "# T1\n",
    "file_hit_charges_T10L, file_hit_charges_T10R = select_charges_for_beam_monitor(good_events, files, 130, [13,14], False)\n",
    "file_hit_charges_T11L, file_hit_charges_T11R = select_charges_for_beam_monitor(good_events, files, 130, [15,16], False)\n",
    "\n",
    "# T0\n",
    "file_hit_charges_T00L, file_hit_charges_T00R = select_charges_for_beam_monitor(good_events, files, 130, [12,13], False, \"time\")\n",
    "file_hit_charges_T01L, file_hit_charges_T01R = select_charges_for_beam_monitor(good_events, files, 130, [14,15], False, \"time\")"
   ]
  },
  {
   "cell_type": "code",
   "execution_count": 140,
   "id": "e0a2f3f3",
   "metadata": {},
   "outputs": [
    {
     "name": "stdout",
     "output_type": "stream",
     "text": [
      "ACT3\n",
      "231\n",
      "246\n",
      "\n",
      "T1\n",
      "505\n",
      "498\n",
      "508\n",
      "391\n",
      "\n",
      "T0\n",
      "0\n",
      "505\n",
      "498\n",
      "508\n",
      "\n"
     ]
    }
   ],
   "source": [
    "print(\"ACT3\")\n",
    "print(len(file_hit_charges_ACT3L))\n",
    "print(f\"{len(file_hit_charges_ACT3R)}\\n\")\n",
    "\n",
    "print(\"T1\")\n",
    "print(len(file_hit_charges_T10L))\n",
    "print(len(file_hit_charges_T10R))\n",
    "print(len(file_hit_charges_T11L))\n",
    "print(f\"{len(file_hit_charges_T11R)}\\n\")\n",
    "\n",
    "print(\"T0\")\n",
    "print(len(file_hit_charges_T00L))\n",
    "print(len(file_hit_charges_T00R))\n",
    "print(len(file_hit_charges_T01L))\n",
    "print(f\"{len(file_hit_charges_T01R)}\\n\")"
   ]
  },
  {
   "cell_type": "code",
   "execution_count": 130,
   "id": "3ffdf0d5",
   "metadata": {},
   "outputs": [
    {
     "data": {
      "image/png": "[encoded data removed]",
      "text/plain": [
       "<Figure size 640x480 with 1 Axes>"
      ]
     },
     "metadata": {},
     "output_type": "display_data"
    }
   ],
   "source": [
    "plt.hist(file_hit_charges_ACT3L, alpha=0.4);\n",
    "plt.hist(file_hit_charges_ACT3R, alpha=0.4);"
   ]
  },
  {
   "cell_type": "code",
   "execution_count": null,
   "id": "e5ac858f",
   "metadata": {},
   "outputs": [],
   "source": []
  }
 ],
 "metadata": {
  "kernelspec": {
   "display_name": "Python 3",
   "language": "python",
   "name": "python3"
  },
  "language_info": {
   "codemirror_mode": {
    "name": "ipython",
    "version": 3
   },
   "file_extension": ".py",
   "mimetype": "text/x-python",
   "name": "python",
   "nbconvert_exporter": "python",
   "pygments_lexer": "ipython3",
   "version": "3.9.21"
  }
 },
 "nbformat": 4,
 "nbformat_minor": 5
}
